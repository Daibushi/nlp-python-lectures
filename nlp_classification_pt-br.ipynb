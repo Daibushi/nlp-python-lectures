{
 "cells": [
  {
   "cell_type": "markdown",
   "metadata": {},
   "source": [
    "![e-stude.com Treinamentos em Computação](files/logo_e-stude.png)"
   ]
  },
  {
   "cell_type": "markdown",
   "metadata": {},
   "source": [
    "<h1 align=\"center\"> Introdução ao Processamento de Linguagem Natural (PLN) Usando Python </h1>\n",
    "<h3 align=\"center\"> Professor Fernando Vieira da Silva MSc.</h3>"
   ]
  },
  {
   "cell_type": "markdown",
   "metadata": {},
   "source": [
    "<h2>Problema de Classificação</h2>"
   ]
  },
  {
   "cell_type": "markdown",
   "metadata": {},
   "source": [
    "<p>Neste tutorial vamos trabalhar com um exemplo prático de problema de classificação de texto. O objetivo é identificar uma sentença como escrita \"formal\" ou \"informal\".</p>"
   ]
  },
  {
   "cell_type": "markdown",
   "metadata": {},
   "source": [
    "<b>1. Obtendo o corpus</b>"
   ]
  },
  {
   "cell_type": "markdown",
   "metadata": {},
   "source": [
    "<p>Para simplificar o problema, vamos continuar utilizando o corpus Gutenberg como textos formais e vamos usar mensagens de chat do corpus <b>nps_chat</b> como textos informais.</p>\n",
    "<p>Antes de tudo, vamos baixar o corpus nps_chat:</p>"
   ]
  },
  {
   "cell_type": "code",
   "execution_count": 1,
   "metadata": {
    "collapsed": false
   },
   "outputs": [
    {
     "name": "stdout",
     "output_type": "stream",
     "text": [
      "[nltk_data] Downloading package nps_chat to\n",
      "[nltk_data]     /home/datascience/nltk_data...\n",
      "[nltk_data]   Unzipping corpora/nps_chat.zip.\n"
     ]
    },
    {
     "data": {
      "text/plain": [
       "True"
      ]
     },
     "execution_count": 1,
     "metadata": {},
     "output_type": "execute_result"
    }
   ],
   "source": [
    "import nltk\n",
    "\n",
    "nltk.download('nps_chat')"
   ]
  },
  {
   "cell_type": "code",
   "execution_count": 6,
   "metadata": {
    "collapsed": false
   },
   "outputs": [
    {
     "name": "stdout",
     "output_type": "stream",
     "text": [
      "['10-19-20s_706posts.xml', '10-19-30s_705posts.xml', '10-19-40s_686posts.xml', '10-19-adults_706posts.xml', '10-24-40s_706posts.xml', '10-26-teens_706posts.xml', '11-06-adults_706posts.xml', '11-08-20s_705posts.xml', '11-08-40s_706posts.xml', '11-08-adults_705posts.xml', '11-08-teens_706posts.xml', '11-09-20s_706posts.xml', '11-09-40s_706posts.xml', '11-09-adults_706posts.xml', '11-09-teens_706posts.xml']\n"
     ]
    }
   ],
   "source": [
    "from nltk.corpus import nps_chat\n",
    "\n",
    "print(nps_chat.fileids())"
   ]
  },
  {
   "cell_type": "markdown",
   "metadata": {},
   "source": [
    "<p>Agora vamos ler os dois corpus e armazenar as sentenças em uma mesma ndarray. Perceba que também teremos uma ndarray para indicar se o texto é formal ou não. Começamos armazenando o corpus em lists. Vamos usar apenas 500 elementos de cada, para fins didáticos.</p>"
   ]
  },
  {
   "cell_type": "code",
   "execution_count": 42,
   "metadata": {
    "collapsed": false
   },
   "outputs": [
    {
     "name": "stdout",
     "output_type": "stream",
     "text": [
      "1000\n",
      "1000\n"
     ]
    }
   ],
   "source": [
    "import nltk\n",
    "\n",
    "x_data_nps = []\n",
    "\n",
    "for fileid in nltk.corpus.nps_chat.fileids():\n",
    "    x_data_nps.extend([post.text for post in nps_chat.xml_posts(fileid)])\n",
    "\n",
    "y_data_nps = [0] * len(x_data_nps)\n",
    "\n",
    "x_data_gut = []\n",
    "for fileid in nltk.corpus.gutenberg.fileids():\n",
    "    x_data_gut.extend([' '.join(sent) for sent in nltk.corpus.gutenberg.sents(fileid)])\n",
    "    \n",
    "y_data_gut = [1] * len(x_data_gut)\n",
    "\n",
    "x_data_full = x_data_nps[:500] + x_data_gut[:500]\n",
    "print(len(x_data_full))\n",
    "y_data_full = y_data_nps[:500] + y_data_gut[:500]\n",
    "print(len(y_data_full))"
   ]
  },
  {
   "cell_type": "markdown",
   "metadata": {},
   "source": [
    "<p>Em seguida, transformamos essas listas em ndarrays, para usarmos nas etapas de pré-processamento que já conhecemos.</p>"
   ]
  },
  {
   "cell_type": "code",
   "execution_count": 43,
   "metadata": {
    "collapsed": false
   },
   "outputs": [
    {
     "name": "stdout",
     "output_type": "stream",
     "text": [
      "(1000,)\n",
      "(1000,)\n"
     ]
    }
   ],
   "source": [
    "import numpy as np\n",
    "\n",
    "x_data = np.array(x_data_full, dtype=object)\n",
    "#x_data = np.array(x_data_full)\n",
    "print(x_data.shape)\n",
    "y_data = np.array(y_data_full)\n",
    "print(y_data.shape)"
   ]
  },
  {
   "cell_type": "markdown",
   "metadata": {},
   "source": [
    "<b>2. Dividindo em datasets de treino e teste</b>"
   ]
  },
  {
   "cell_type": "markdown",
   "metadata": {},
   "source": [
    "<p>Para que a pesquisa seja confiável, precisamos avaliar os resultados em um dataset de teste. Por isso, vamos dividir os dados aleatoriamente, deixando 80% para treino e o demais para testar os resultados em breve.</p>"
   ]
  },
  {
   "cell_type": "code",
   "execution_count": 44,
   "metadata": {
    "collapsed": false
   },
   "outputs": [
    {
     "name": "stdout",
     "output_type": "stream",
     "text": [
      "1000\n",
      "[False  True  True False  True  True  True  True False  True]\n"
     ]
    }
   ],
   "source": [
    "train_indexes = np.random.rand(len(x_data)) < 0.80\n",
    "\n",
    "print(len(train_indexes))\n",
    "print(train_indexes[:10])"
   ]
  },
  {
   "cell_type": "code",
   "execution_count": 45,
   "metadata": {
    "collapsed": false
   },
   "outputs": [
    {
     "name": "stdout",
     "output_type": "stream",
     "text": [
      "808\n",
      "808\n"
     ]
    }
   ],
   "source": [
    "x_data_train = x_data[train_indexes]\n",
    "y_data_train = y_data[train_indexes]\n",
    "\n",
    "print(len(x_data_train))\n",
    "print(len(y_data_train))"
   ]
  },
  {
   "cell_type": "code",
   "execution_count": 46,
   "metadata": {
    "collapsed": false
   },
   "outputs": [
    {
     "name": "stdout",
     "output_type": "stream",
     "text": [
      "192\n",
      "192\n"
     ]
    }
   ],
   "source": [
    "x_data_test = x_data[~train_indexes]\n",
    "y_data_test = y_data[~train_indexes]\n",
    "\n",
    "print(len(x_data_test))\n",
    "print(len(y_data_test))"
   ]
  },
  {
   "cell_type": "markdown",
   "metadata": {},
   "source": [
    "<b>3. Treinando o classificador</b>"
   ]
  },
  {
   "cell_type": "markdown",
   "metadata": {},
   "source": [
    "<p>Para tokenização, vamos usar a mesma função do tutorial anterior:</p>"
   ]
  },
  {
   "cell_type": "code",
   "execution_count": 47,
   "metadata": {
    "collapsed": false
   },
   "outputs": [],
   "source": [
    "from nltk import pos_tag\n",
    "from nltk.corpus import stopwords\n",
    "from nltk.stem import WordNetLemmatizer\n",
    "from nltk.tokenize import word_tokenize\n",
    "import string\n",
    "from nltk.corpus import wordnet\n",
    "\n",
    "stopwords_list = stopwords.words('english')\n",
    "\n",
    "lemmatizer = WordNetLemmatizer()\n",
    "\n",
    "def my_tokenizer(doc):\n",
    "    words = word_tokenize(doc)\n",
    "    \n",
    "    pos_tags = pos_tag(words)\n",
    "    \n",
    "    non_stopwords = [w for w in pos_tags if not w[0].lower() in stopwords_list]\n",
    "    \n",
    "    non_punctuation = [w for w in non_stopwords if not w[0] in string.punctuation]\n",
    "    \n",
    "    lemmas = []\n",
    "    for w in non_punctuation:\n",
    "        if w[1].startswith('J'):\n",
    "            pos = wordnet.ADJ\n",
    "        elif w[1].startswith('V'):\n",
    "            pos = wordnet.VERB\n",
    "        elif w[1].startswith('N'):\n",
    "            pos = wordnet.NOUN\n",
    "        elif w[1].startswith('R'):\n",
    "            pos = wordnet.ADV\n",
    "        else:\n",
    "            pos = wordnet.NOUN\n",
    "        \n",
    "        lemmas.append(lemmatizer.lemmatize(w[0], pos))\n",
    "\n",
    "    return lemmas\n",
    "    \n",
    "    "
   ]
  },
  {
   "cell_type": "markdown",
   "metadata": {},
   "source": [
    "<p>Mas agora vamos criar um <b>pipeline</b> contendo o vetorizador TF-IDF, o SVD para redução de atributos e um algoritmo de classificação. Mas antes, vamos encapsular nosso algoritmo para escolher o número de dimensões para o SVD em uma classe que pode ser utilizada com o pipeline:</p>"
   ]
  },
  {
   "cell_type": "code",
   "execution_count": 48,
   "metadata": {
    "collapsed": false
   },
   "outputs": [],
   "source": [
    "from sklearn.decomposition import TruncatedSVD\n",
    "\n",
    "class SVDDimSelect(object):\n",
    "    def fit(self, X, y=None):               \n",
    "        self.svd_transformer = TruncatedSVD(n_components=X.shape[1]/2)\n",
    "        self.svd_transformer.fit(X)\n",
    "        \n",
    "        cummulative_variance = 0.0\n",
    "        k = 0\n",
    "        for var in sorted(self.svd_transformer.explained_variance_ratio_)[::-1]:\n",
    "            cummulative_variance += var\n",
    "            if cummulative_variance >= 0.5:\n",
    "                break\n",
    "            else:\n",
    "                k += 1\n",
    "                \n",
    "        self.svd_transformer = TruncatedSVD(n_components=k)\n",
    "        return self.svd_transformer.fit(X)\n",
    "    \n",
    "    def transform(self, X, Y=None):\n",
    "        return self.svd_transformer.transform(X)\n",
    "        \n",
    "    def get_params(self, deep=True):\n",
    "        return {}"
   ]
  },
  {
   "cell_type": "markdown",
   "metadata": {},
   "source": [
    "<p>Finalmente podemos criar nosso pipeline:</p>"
   ]
  },
  {
   "cell_type": "code",
   "execution_count": 49,
   "metadata": {
    "collapsed": false
   },
   "outputs": [],
   "source": [
    "from sklearn.feature_extraction.text import TfidfVectorizer\n",
    "from sklearn.pipeline import Pipeline\n",
    "from sklearn import neighbors\n",
    "\n",
    "clf = neighbors.KNeighborsClassifier(n_neighbors=10, weights='uniform')\n",
    "\n",
    "my_pipeline = Pipeline([('tfidf', TfidfVectorizer(tokenizer=my_tokenizer)),\\\n",
    "                       ('svd', SVDDimSelect()), \\\n",
    "                       ('clf', clf)])"
   ]
  },
  {
   "cell_type": "markdown",
   "metadata": {},
   "source": [
    "<p>Estamos quase lá... Agora vamos criar um objeto <b>RandomizedSearchCV</b> que fará a seleção de hiper-parâmetros do nosso classificador (aka. parâmetros que não são aprendidos durante o treinamento). Essa etapa é importante para obtermos a melhor configuração do algoritmo de classificação. Para economizar tempo de treinamento, vamos usar um algoritmo simples o <i>K nearest neighbors (KNN)</i>."
   ]
  },
  {
   "cell_type": "code",
   "execution_count": 50,
   "metadata": {
    "collapsed": false
   },
   "outputs": [],
   "source": [
    "from sklearn.grid_search import RandomizedSearchCV\n",
    "import scipy\n",
    "\n",
    "par = {'clf__n_neighbors': range(1, 60), 'clf__weights': ['uniform', 'distance']}\n",
    "\n",
    "\n",
    "hyperpar_selector = RandomizedSearchCV(my_pipeline, par, cv=3, scoring='accuracy', n_jobs=1, n_iter=20)\n"
   ]
  },
  {
   "cell_type": "markdown",
   "metadata": {},
   "source": [
    "<p>E agora vamos treinar nosso algoritmo, usando o pipeline com seleção de atributos:</p>"
   ]
  },
  {
   "cell_type": "code",
   "execution_count": 51,
   "metadata": {
    "collapsed": false,
    "scrolled": true
   },
   "outputs": [
    {
     "name": "stderr",
     "output_type": "stream",
     "text": [
      "/home/datascience/anaconda3/lib/python3.5/site-packages/sklearn/utils/extmath.py:218: VisibleDeprecationWarning: using a non-integer number instead of an integer will result in an error in the future\n",
      "  R = random_state.normal(size=(A.shape[1], size))\n",
      "/home/datascience/anaconda3/lib/python3.5/site-packages/sklearn/utils/extmath.py:317: VisibleDeprecationWarning: using a non-integer number instead of an integer will result in an error in the future\n",
      "  return V[:n_components, :].T, s[:n_components], U[:, :n_components].T\n",
      "/home/datascience/anaconda3/lib/python3.5/site-packages/sklearn/utils/extmath.py:218: VisibleDeprecationWarning: using a non-integer number instead of an integer will result in an error in the future\n",
      "  R = random_state.normal(size=(A.shape[1], size))\n",
      "/home/datascience/anaconda3/lib/python3.5/site-packages/sklearn/utils/extmath.py:317: VisibleDeprecationWarning: using a non-integer number instead of an integer will result in an error in the future\n",
      "  return V[:n_components, :].T, s[:n_components], U[:, :n_components].T\n",
      "/home/datascience/anaconda3/lib/python3.5/site-packages/sklearn/utils/extmath.py:218: VisibleDeprecationWarning: using a non-integer number instead of an integer will result in an error in the future\n",
      "  R = random_state.normal(size=(A.shape[1], size))\n",
      "/home/datascience/anaconda3/lib/python3.5/site-packages/sklearn/utils/extmath.py:317: VisibleDeprecationWarning: using a non-integer number instead of an integer will result in an error in the future\n",
      "  return V[:n_components, :].T, s[:n_components], U[:, :n_components].T\n",
      "/home/datascience/anaconda3/lib/python3.5/site-packages/sklearn/utils/extmath.py:218: VisibleDeprecationWarning: using a non-integer number instead of an integer will result in an error in the future\n",
      "  R = random_state.normal(size=(A.shape[1], size))\n",
      "/home/datascience/anaconda3/lib/python3.5/site-packages/sklearn/utils/extmath.py:317: VisibleDeprecationWarning: using a non-integer number instead of an integer will result in an error in the future\n",
      "  return V[:n_components, :].T, s[:n_components], U[:, :n_components].T\n",
      "/home/datascience/anaconda3/lib/python3.5/site-packages/sklearn/utils/extmath.py:218: VisibleDeprecationWarning: using a non-integer number instead of an integer will result in an error in the future\n",
      "  R = random_state.normal(size=(A.shape[1], size))\n",
      "/home/datascience/anaconda3/lib/python3.5/site-packages/sklearn/utils/extmath.py:317: VisibleDeprecationWarning: using a non-integer number instead of an integer will result in an error in the future\n",
      "  return V[:n_components, :].T, s[:n_components], U[:, :n_components].T\n",
      "/home/datascience/anaconda3/lib/python3.5/site-packages/sklearn/utils/extmath.py:218: VisibleDeprecationWarning: using a non-integer number instead of an integer will result in an error in the future\n",
      "  R = random_state.normal(size=(A.shape[1], size))\n",
      "/home/datascience/anaconda3/lib/python3.5/site-packages/sklearn/utils/extmath.py:317: VisibleDeprecationWarning: using a non-integer number instead of an integer will result in an error in the future\n",
      "  return V[:n_components, :].T, s[:n_components], U[:, :n_components].T\n",
      "/home/datascience/anaconda3/lib/python3.5/site-packages/sklearn/utils/extmath.py:218: VisibleDeprecationWarning: using a non-integer number instead of an integer will result in an error in the future\n",
      "  R = random_state.normal(size=(A.shape[1], size))\n",
      "/home/datascience/anaconda3/lib/python3.5/site-packages/sklearn/utils/extmath.py:317: VisibleDeprecationWarning: using a non-integer number instead of an integer will result in an error in the future\n",
      "  return V[:n_components, :].T, s[:n_components], U[:, :n_components].T\n",
      "/home/datascience/anaconda3/lib/python3.5/site-packages/sklearn/utils/extmath.py:218: VisibleDeprecationWarning: using a non-integer number instead of an integer will result in an error in the future\n",
      "  R = random_state.normal(size=(A.shape[1], size))\n",
      "/home/datascience/anaconda3/lib/python3.5/site-packages/sklearn/utils/extmath.py:317: VisibleDeprecationWarning: using a non-integer number instead of an integer will result in an error in the future\n",
      "  return V[:n_components, :].T, s[:n_components], U[:, :n_components].T\n",
      "/home/datascience/anaconda3/lib/python3.5/site-packages/sklearn/utils/extmath.py:218: VisibleDeprecationWarning: using a non-integer number instead of an integer will result in an error in the future\n",
      "  R = random_state.normal(size=(A.shape[1], size))\n",
      "/home/datascience/anaconda3/lib/python3.5/site-packages/sklearn/utils/extmath.py:317: VisibleDeprecationWarning: using a non-integer number instead of an integer will result in an error in the future\n",
      "  return V[:n_components, :].T, s[:n_components], U[:, :n_components].T\n",
      "/home/datascience/anaconda3/lib/python3.5/site-packages/sklearn/utils/extmath.py:218: VisibleDeprecationWarning: using a non-integer number instead of an integer will result in an error in the future\n",
      "  R = random_state.normal(size=(A.shape[1], size))\n",
      "/home/datascience/anaconda3/lib/python3.5/site-packages/sklearn/utils/extmath.py:317: VisibleDeprecationWarning: using a non-integer number instead of an integer will result in an error in the future\n",
      "  return V[:n_components, :].T, s[:n_components], U[:, :n_components].T\n",
      "/home/datascience/anaconda3/lib/python3.5/site-packages/sklearn/utils/extmath.py:218: VisibleDeprecationWarning: using a non-integer number instead of an integer will result in an error in the future\n",
      "  R = random_state.normal(size=(A.shape[1], size))\n",
      "/home/datascience/anaconda3/lib/python3.5/site-packages/sklearn/utils/extmath.py:317: VisibleDeprecationWarning: using a non-integer number instead of an integer will result in an error in the future\n",
      "  return V[:n_components, :].T, s[:n_components], U[:, :n_components].T\n",
      "/home/datascience/anaconda3/lib/python3.5/site-packages/sklearn/utils/extmath.py:218: VisibleDeprecationWarning: using a non-integer number instead of an integer will result in an error in the future\n",
      "  R = random_state.normal(size=(A.shape[1], size))\n",
      "/home/datascience/anaconda3/lib/python3.5/site-packages/sklearn/utils/extmath.py:317: VisibleDeprecationWarning: using a non-integer number instead of an integer will result in an error in the future\n",
      "  return V[:n_components, :].T, s[:n_components], U[:, :n_components].T\n",
      "/home/datascience/anaconda3/lib/python3.5/site-packages/sklearn/utils/extmath.py:218: VisibleDeprecationWarning: using a non-integer number instead of an integer will result in an error in the future\n",
      "  R = random_state.normal(size=(A.shape[1], size))\n",
      "/home/datascience/anaconda3/lib/python3.5/site-packages/sklearn/utils/extmath.py:317: VisibleDeprecationWarning: using a non-integer number instead of an integer will result in an error in the future\n",
      "  return V[:n_components, :].T, s[:n_components], U[:, :n_components].T\n",
      "/home/datascience/anaconda3/lib/python3.5/site-packages/sklearn/utils/extmath.py:218: VisibleDeprecationWarning: using a non-integer number instead of an integer will result in an error in the future\n",
      "  R = random_state.normal(size=(A.shape[1], size))\n",
      "/home/datascience/anaconda3/lib/python3.5/site-packages/sklearn/utils/extmath.py:317: VisibleDeprecationWarning: using a non-integer number instead of an integer will result in an error in the future\n",
      "  return V[:n_components, :].T, s[:n_components], U[:, :n_components].T\n",
      "/home/datascience/anaconda3/lib/python3.5/site-packages/sklearn/utils/extmath.py:218: VisibleDeprecationWarning: using a non-integer number instead of an integer will result in an error in the future\n",
      "  R = random_state.normal(size=(A.shape[1], size))\n",
      "/home/datascience/anaconda3/lib/python3.5/site-packages/sklearn/utils/extmath.py:317: VisibleDeprecationWarning: using a non-integer number instead of an integer will result in an error in the future\n",
      "  return V[:n_components, :].T, s[:n_components], U[:, :n_components].T\n",
      "/home/datascience/anaconda3/lib/python3.5/site-packages/sklearn/utils/extmath.py:218: VisibleDeprecationWarning: using a non-integer number instead of an integer will result in an error in the future\n",
      "  R = random_state.normal(size=(A.shape[1], size))\n",
      "/home/datascience/anaconda3/lib/python3.5/site-packages/sklearn/utils/extmath.py:317: VisibleDeprecationWarning: using a non-integer number instead of an integer will result in an error in the future\n",
      "  return V[:n_components, :].T, s[:n_components], U[:, :n_components].T\n",
      "/home/datascience/anaconda3/lib/python3.5/site-packages/sklearn/utils/extmath.py:218: VisibleDeprecationWarning: using a non-integer number instead of an integer will result in an error in the future\n",
      "  R = random_state.normal(size=(A.shape[1], size))\n",
      "/home/datascience/anaconda3/lib/python3.5/site-packages/sklearn/utils/extmath.py:317: VisibleDeprecationWarning: using a non-integer number instead of an integer will result in an error in the future\n",
      "  return V[:n_components, :].T, s[:n_components], U[:, :n_components].T\n",
      "/home/datascience/anaconda3/lib/python3.5/site-packages/sklearn/utils/extmath.py:218: VisibleDeprecationWarning: using a non-integer number instead of an integer will result in an error in the future\n",
      "  R = random_state.normal(size=(A.shape[1], size))\n",
      "/home/datascience/anaconda3/lib/python3.5/site-packages/sklearn/utils/extmath.py:317: VisibleDeprecationWarning: using a non-integer number instead of an integer will result in an error in the future\n",
      "  return V[:n_components, :].T, s[:n_components], U[:, :n_components].T\n",
      "/home/datascience/anaconda3/lib/python3.5/site-packages/sklearn/utils/extmath.py:218: VisibleDeprecationWarning: using a non-integer number instead of an integer will result in an error in the future\n",
      "  R = random_state.normal(size=(A.shape[1], size))\n",
      "/home/datascience/anaconda3/lib/python3.5/site-packages/sklearn/utils/extmath.py:317: VisibleDeprecationWarning: using a non-integer number instead of an integer will result in an error in the future\n",
      "  return V[:n_components, :].T, s[:n_components], U[:, :n_components].T\n",
      "/home/datascience/anaconda3/lib/python3.5/site-packages/sklearn/utils/extmath.py:218: VisibleDeprecationWarning: using a non-integer number instead of an integer will result in an error in the future\n",
      "  R = random_state.normal(size=(A.shape[1], size))\n",
      "/home/datascience/anaconda3/lib/python3.5/site-packages/sklearn/utils/extmath.py:317: VisibleDeprecationWarning: using a non-integer number instead of an integer will result in an error in the future\n",
      "  return V[:n_components, :].T, s[:n_components], U[:, :n_components].T\n",
      "/home/datascience/anaconda3/lib/python3.5/site-packages/sklearn/utils/extmath.py:218: VisibleDeprecationWarning: using a non-integer number instead of an integer will result in an error in the future\n",
      "  R = random_state.normal(size=(A.shape[1], size))\n",
      "/home/datascience/anaconda3/lib/python3.5/site-packages/sklearn/utils/extmath.py:317: VisibleDeprecationWarning: using a non-integer number instead of an integer will result in an error in the future\n",
      "  return V[:n_components, :].T, s[:n_components], U[:, :n_components].T\n",
      "/home/datascience/anaconda3/lib/python3.5/site-packages/sklearn/utils/extmath.py:218: VisibleDeprecationWarning: using a non-integer number instead of an integer will result in an error in the future\n",
      "  R = random_state.normal(size=(A.shape[1], size))\n",
      "/home/datascience/anaconda3/lib/python3.5/site-packages/sklearn/utils/extmath.py:317: VisibleDeprecationWarning: using a non-integer number instead of an integer will result in an error in the future\n",
      "  return V[:n_components, :].T, s[:n_components], U[:, :n_components].T\n",
      "/home/datascience/anaconda3/lib/python3.5/site-packages/sklearn/utils/extmath.py:218: VisibleDeprecationWarning: using a non-integer number instead of an integer will result in an error in the future\n",
      "  R = random_state.normal(size=(A.shape[1], size))\n",
      "/home/datascience/anaconda3/lib/python3.5/site-packages/sklearn/utils/extmath.py:317: VisibleDeprecationWarning: using a non-integer number instead of an integer will result in an error in the future\n",
      "  return V[:n_components, :].T, s[:n_components], U[:, :n_components].T\n",
      "/home/datascience/anaconda3/lib/python3.5/site-packages/sklearn/utils/extmath.py:218: VisibleDeprecationWarning: using a non-integer number instead of an integer will result in an error in the future\n",
      "  R = random_state.normal(size=(A.shape[1], size))\n",
      "/home/datascience/anaconda3/lib/python3.5/site-packages/sklearn/utils/extmath.py:317: VisibleDeprecationWarning: using a non-integer number instead of an integer will result in an error in the future\n",
      "  return V[:n_components, :].T, s[:n_components], U[:, :n_components].T\n",
      "/home/datascience/anaconda3/lib/python3.5/site-packages/sklearn/utils/extmath.py:218: VisibleDeprecationWarning: using a non-integer number instead of an integer will result in an error in the future\n",
      "  R = random_state.normal(size=(A.shape[1], size))\n",
      "/home/datascience/anaconda3/lib/python3.5/site-packages/sklearn/utils/extmath.py:317: VisibleDeprecationWarning: using a non-integer number instead of an integer will result in an error in the future\n",
      "  return V[:n_components, :].T, s[:n_components], U[:, :n_components].T\n",
      "/home/datascience/anaconda3/lib/python3.5/site-packages/sklearn/utils/extmath.py:218: VisibleDeprecationWarning: using a non-integer number instead of an integer will result in an error in the future\n",
      "  R = random_state.normal(size=(A.shape[1], size))\n",
      "/home/datascience/anaconda3/lib/python3.5/site-packages/sklearn/utils/extmath.py:317: VisibleDeprecationWarning: using a non-integer number instead of an integer will result in an error in the future\n",
      "  return V[:n_components, :].T, s[:n_components], U[:, :n_components].T\n",
      "/home/datascience/anaconda3/lib/python3.5/site-packages/sklearn/utils/extmath.py:218: VisibleDeprecationWarning: using a non-integer number instead of an integer will result in an error in the future\n",
      "  R = random_state.normal(size=(A.shape[1], size))\n",
      "/home/datascience/anaconda3/lib/python3.5/site-packages/sklearn/utils/extmath.py:317: VisibleDeprecationWarning: using a non-integer number instead of an integer will result in an error in the future\n",
      "  return V[:n_components, :].T, s[:n_components], U[:, :n_components].T\n",
      "/home/datascience/anaconda3/lib/python3.5/site-packages/sklearn/utils/extmath.py:218: VisibleDeprecationWarning: using a non-integer number instead of an integer will result in an error in the future\n",
      "  R = random_state.normal(size=(A.shape[1], size))\n",
      "/home/datascience/anaconda3/lib/python3.5/site-packages/sklearn/utils/extmath.py:317: VisibleDeprecationWarning: using a non-integer number instead of an integer will result in an error in the future\n",
      "  return V[:n_components, :].T, s[:n_components], U[:, :n_components].T\n",
      "/home/datascience/anaconda3/lib/python3.5/site-packages/sklearn/utils/extmath.py:218: VisibleDeprecationWarning: using a non-integer number instead of an integer will result in an error in the future\n",
      "  R = random_state.normal(size=(A.shape[1], size))\n",
      "/home/datascience/anaconda3/lib/python3.5/site-packages/sklearn/utils/extmath.py:317: VisibleDeprecationWarning: using a non-integer number instead of an integer will result in an error in the future\n",
      "  return V[:n_components, :].T, s[:n_components], U[:, :n_components].T\n",
      "/home/datascience/anaconda3/lib/python3.5/site-packages/sklearn/utils/extmath.py:218: VisibleDeprecationWarning: using a non-integer number instead of an integer will result in an error in the future\n",
      "  R = random_state.normal(size=(A.shape[1], size))\n",
      "/home/datascience/anaconda3/lib/python3.5/site-packages/sklearn/utils/extmath.py:317: VisibleDeprecationWarning: using a non-integer number instead of an integer will result in an error in the future\n",
      "  return V[:n_components, :].T, s[:n_components], U[:, :n_components].T\n",
      "/home/datascience/anaconda3/lib/python3.5/site-packages/sklearn/utils/extmath.py:218: VisibleDeprecationWarning: using a non-integer number instead of an integer will result in an error in the future\n",
      "  R = random_state.normal(size=(A.shape[1], size))\n",
      "/home/datascience/anaconda3/lib/python3.5/site-packages/sklearn/utils/extmath.py:317: VisibleDeprecationWarning: using a non-integer number instead of an integer will result in an error in the future\n",
      "  return V[:n_components, :].T, s[:n_components], U[:, :n_components].T\n",
      "/home/datascience/anaconda3/lib/python3.5/site-packages/sklearn/utils/extmath.py:218: VisibleDeprecationWarning: using a non-integer number instead of an integer will result in an error in the future\n",
      "  R = random_state.normal(size=(A.shape[1], size))\n",
      "/home/datascience/anaconda3/lib/python3.5/site-packages/sklearn/utils/extmath.py:317: VisibleDeprecationWarning: using a non-integer number instead of an integer will result in an error in the future\n",
      "  return V[:n_components, :].T, s[:n_components], U[:, :n_components].T\n",
      "/home/datascience/anaconda3/lib/python3.5/site-packages/sklearn/utils/extmath.py:218: VisibleDeprecationWarning: using a non-integer number instead of an integer will result in an error in the future\n",
      "  R = random_state.normal(size=(A.shape[1], size))\n",
      "/home/datascience/anaconda3/lib/python3.5/site-packages/sklearn/utils/extmath.py:317: VisibleDeprecationWarning: using a non-integer number instead of an integer will result in an error in the future\n",
      "  return V[:n_components, :].T, s[:n_components], U[:, :n_components].T\n",
      "/home/datascience/anaconda3/lib/python3.5/site-packages/sklearn/utils/extmath.py:218: VisibleDeprecationWarning: using a non-integer number instead of an integer will result in an error in the future\n",
      "  R = random_state.normal(size=(A.shape[1], size))\n",
      "/home/datascience/anaconda3/lib/python3.5/site-packages/sklearn/utils/extmath.py:317: VisibleDeprecationWarning: using a non-integer number instead of an integer will result in an error in the future\n",
      "  return V[:n_components, :].T, s[:n_components], U[:, :n_components].T\n",
      "/home/datascience/anaconda3/lib/python3.5/site-packages/sklearn/utils/extmath.py:218: VisibleDeprecationWarning: using a non-integer number instead of an integer will result in an error in the future\n",
      "  R = random_state.normal(size=(A.shape[1], size))\n",
      "/home/datascience/anaconda3/lib/python3.5/site-packages/sklearn/utils/extmath.py:317: VisibleDeprecationWarning: using a non-integer number instead of an integer will result in an error in the future\n",
      "  return V[:n_components, :].T, s[:n_components], U[:, :n_components].T\n",
      "/home/datascience/anaconda3/lib/python3.5/site-packages/sklearn/utils/extmath.py:218: VisibleDeprecationWarning: using a non-integer number instead of an integer will result in an error in the future\n",
      "  R = random_state.normal(size=(A.shape[1], size))\n",
      "/home/datascience/anaconda3/lib/python3.5/site-packages/sklearn/utils/extmath.py:317: VisibleDeprecationWarning: using a non-integer number instead of an integer will result in an error in the future\n",
      "  return V[:n_components, :].T, s[:n_components], U[:, :n_components].T\n",
      "/home/datascience/anaconda3/lib/python3.5/site-packages/sklearn/utils/extmath.py:218: VisibleDeprecationWarning: using a non-integer number instead of an integer will result in an error in the future\n",
      "  R = random_state.normal(size=(A.shape[1], size))\n",
      "/home/datascience/anaconda3/lib/python3.5/site-packages/sklearn/utils/extmath.py:317: VisibleDeprecationWarning: using a non-integer number instead of an integer will result in an error in the future\n",
      "  return V[:n_components, :].T, s[:n_components], U[:, :n_components].T\n",
      "/home/datascience/anaconda3/lib/python3.5/site-packages/sklearn/utils/extmath.py:218: VisibleDeprecationWarning: using a non-integer number instead of an integer will result in an error in the future\n",
      "  R = random_state.normal(size=(A.shape[1], size))\n",
      "/home/datascience/anaconda3/lib/python3.5/site-packages/sklearn/utils/extmath.py:317: VisibleDeprecationWarning: using a non-integer number instead of an integer will result in an error in the future\n",
      "  return V[:n_components, :].T, s[:n_components], U[:, :n_components].T\n",
      "/home/datascience/anaconda3/lib/python3.5/site-packages/sklearn/utils/extmath.py:218: VisibleDeprecationWarning: using a non-integer number instead of an integer will result in an error in the future\n",
      "  R = random_state.normal(size=(A.shape[1], size))\n",
      "/home/datascience/anaconda3/lib/python3.5/site-packages/sklearn/utils/extmath.py:317: VisibleDeprecationWarning: using a non-integer number instead of an integer will result in an error in the future\n",
      "  return V[:n_components, :].T, s[:n_components], U[:, :n_components].T\n",
      "/home/datascience/anaconda3/lib/python3.5/site-packages/sklearn/utils/extmath.py:218: VisibleDeprecationWarning: using a non-integer number instead of an integer will result in an error in the future\n",
      "  R = random_state.normal(size=(A.shape[1], size))\n",
      "/home/datascience/anaconda3/lib/python3.5/site-packages/sklearn/utils/extmath.py:317: VisibleDeprecationWarning: using a non-integer number instead of an integer will result in an error in the future\n",
      "  return V[:n_components, :].T, s[:n_components], U[:, :n_components].T\n",
      "/home/datascience/anaconda3/lib/python3.5/site-packages/sklearn/utils/extmath.py:218: VisibleDeprecationWarning: using a non-integer number instead of an integer will result in an error in the future\n",
      "  R = random_state.normal(size=(A.shape[1], size))\n",
      "/home/datascience/anaconda3/lib/python3.5/site-packages/sklearn/utils/extmath.py:317: VisibleDeprecationWarning: using a non-integer number instead of an integer will result in an error in the future\n",
      "  return V[:n_components, :].T, s[:n_components], U[:, :n_components].T\n",
      "/home/datascience/anaconda3/lib/python3.5/site-packages/sklearn/utils/extmath.py:218: VisibleDeprecationWarning: using a non-integer number instead of an integer will result in an error in the future\n",
      "  R = random_state.normal(size=(A.shape[1], size))\n",
      "/home/datascience/anaconda3/lib/python3.5/site-packages/sklearn/utils/extmath.py:317: VisibleDeprecationWarning: using a non-integer number instead of an integer will result in an error in the future\n",
      "  return V[:n_components, :].T, s[:n_components], U[:, :n_components].T\n",
      "/home/datascience/anaconda3/lib/python3.5/site-packages/sklearn/utils/extmath.py:218: VisibleDeprecationWarning: using a non-integer number instead of an integer will result in an error in the future\n",
      "  R = random_state.normal(size=(A.shape[1], size))\n",
      "/home/datascience/anaconda3/lib/python3.5/site-packages/sklearn/utils/extmath.py:317: VisibleDeprecationWarning: using a non-integer number instead of an integer will result in an error in the future\n",
      "  return V[:n_components, :].T, s[:n_components], U[:, :n_components].T\n",
      "/home/datascience/anaconda3/lib/python3.5/site-packages/sklearn/utils/extmath.py:218: VisibleDeprecationWarning: using a non-integer number instead of an integer will result in an error in the future\n",
      "  R = random_state.normal(size=(A.shape[1], size))\n",
      "/home/datascience/anaconda3/lib/python3.5/site-packages/sklearn/utils/extmath.py:317: VisibleDeprecationWarning: using a non-integer number instead of an integer will result in an error in the future\n",
      "  return V[:n_components, :].T, s[:n_components], U[:, :n_components].T\n",
      "/home/datascience/anaconda3/lib/python3.5/site-packages/sklearn/utils/extmath.py:218: VisibleDeprecationWarning: using a non-integer number instead of an integer will result in an error in the future\n",
      "  R = random_state.normal(size=(A.shape[1], size))\n",
      "/home/datascience/anaconda3/lib/python3.5/site-packages/sklearn/utils/extmath.py:317: VisibleDeprecationWarning: using a non-integer number instead of an integer will result in an error in the future\n",
      "  return V[:n_components, :].T, s[:n_components], U[:, :n_components].T\n",
      "/home/datascience/anaconda3/lib/python3.5/site-packages/sklearn/utils/extmath.py:218: VisibleDeprecationWarning: using a non-integer number instead of an integer will result in an error in the future\n",
      "  R = random_state.normal(size=(A.shape[1], size))\n",
      "/home/datascience/anaconda3/lib/python3.5/site-packages/sklearn/utils/extmath.py:317: VisibleDeprecationWarning: using a non-integer number instead of an integer will result in an error in the future\n",
      "  return V[:n_components, :].T, s[:n_components], U[:, :n_components].T\n",
      "/home/datascience/anaconda3/lib/python3.5/site-packages/sklearn/utils/extmath.py:218: VisibleDeprecationWarning: using a non-integer number instead of an integer will result in an error in the future\n",
      "  R = random_state.normal(size=(A.shape[1], size))\n",
      "/home/datascience/anaconda3/lib/python3.5/site-packages/sklearn/utils/extmath.py:317: VisibleDeprecationWarning: using a non-integer number instead of an integer will result in an error in the future\n",
      "  return V[:n_components, :].T, s[:n_components], U[:, :n_components].T\n",
      "/home/datascience/anaconda3/lib/python3.5/site-packages/sklearn/utils/extmath.py:218: VisibleDeprecationWarning: using a non-integer number instead of an integer will result in an error in the future\n",
      "  R = random_state.normal(size=(A.shape[1], size))\n",
      "/home/datascience/anaconda3/lib/python3.5/site-packages/sklearn/utils/extmath.py:317: VisibleDeprecationWarning: using a non-integer number instead of an integer will result in an error in the future\n",
      "  return V[:n_components, :].T, s[:n_components], U[:, :n_components].T\n",
      "/home/datascience/anaconda3/lib/python3.5/site-packages/sklearn/utils/extmath.py:218: VisibleDeprecationWarning: using a non-integer number instead of an integer will result in an error in the future\n",
      "  R = random_state.normal(size=(A.shape[1], size))\n",
      "/home/datascience/anaconda3/lib/python3.5/site-packages/sklearn/utils/extmath.py:317: VisibleDeprecationWarning: using a non-integer number instead of an integer will result in an error in the future\n",
      "  return V[:n_components, :].T, s[:n_components], U[:, :n_components].T\n",
      "/home/datascience/anaconda3/lib/python3.5/site-packages/sklearn/utils/extmath.py:218: VisibleDeprecationWarning: using a non-integer number instead of an integer will result in an error in the future\n",
      "  R = random_state.normal(size=(A.shape[1], size))\n",
      "/home/datascience/anaconda3/lib/python3.5/site-packages/sklearn/utils/extmath.py:317: VisibleDeprecationWarning: using a non-integer number instead of an integer will result in an error in the future\n",
      "  return V[:n_components, :].T, s[:n_components], U[:, :n_components].T\n",
      "/home/datascience/anaconda3/lib/python3.5/site-packages/sklearn/utils/extmath.py:218: VisibleDeprecationWarning: using a non-integer number instead of an integer will result in an error in the future\n",
      "  R = random_state.normal(size=(A.shape[1], size))\n",
      "/home/datascience/anaconda3/lib/python3.5/site-packages/sklearn/utils/extmath.py:317: VisibleDeprecationWarning: using a non-integer number instead of an integer will result in an error in the future\n",
      "  return V[:n_components, :].T, s[:n_components], U[:, :n_components].T\n",
      "/home/datascience/anaconda3/lib/python3.5/site-packages/sklearn/utils/extmath.py:218: VisibleDeprecationWarning: using a non-integer number instead of an integer will result in an error in the future\n",
      "  R = random_state.normal(size=(A.shape[1], size))\n",
      "/home/datascience/anaconda3/lib/python3.5/site-packages/sklearn/utils/extmath.py:317: VisibleDeprecationWarning: using a non-integer number instead of an integer will result in an error in the future\n",
      "  return V[:n_components, :].T, s[:n_components], U[:, :n_components].T\n",
      "/home/datascience/anaconda3/lib/python3.5/site-packages/sklearn/utils/extmath.py:218: VisibleDeprecationWarning: using a non-integer number instead of an integer will result in an error in the future\n",
      "  R = random_state.normal(size=(A.shape[1], size))\n",
      "/home/datascience/anaconda3/lib/python3.5/site-packages/sklearn/utils/extmath.py:317: VisibleDeprecationWarning: using a non-integer number instead of an integer will result in an error in the future\n",
      "  return V[:n_components, :].T, s[:n_components], U[:, :n_components].T\n",
      "/home/datascience/anaconda3/lib/python3.5/site-packages/sklearn/utils/extmath.py:218: VisibleDeprecationWarning: using a non-integer number instead of an integer will result in an error in the future\n",
      "  R = random_state.normal(size=(A.shape[1], size))\n",
      "/home/datascience/anaconda3/lib/python3.5/site-packages/sklearn/utils/extmath.py:317: VisibleDeprecationWarning: using a non-integer number instead of an integer will result in an error in the future\n",
      "  return V[:n_components, :].T, s[:n_components], U[:, :n_components].T\n",
      "/home/datascience/anaconda3/lib/python3.5/site-packages/sklearn/utils/extmath.py:218: VisibleDeprecationWarning: using a non-integer number instead of an integer will result in an error in the future\n",
      "  R = random_state.normal(size=(A.shape[1], size))\n",
      "/home/datascience/anaconda3/lib/python3.5/site-packages/sklearn/utils/extmath.py:317: VisibleDeprecationWarning: using a non-integer number instead of an integer will result in an error in the future\n",
      "  return V[:n_components, :].T, s[:n_components], U[:, :n_components].T\n",
      "/home/datascience/anaconda3/lib/python3.5/site-packages/sklearn/utils/extmath.py:218: VisibleDeprecationWarning: using a non-integer number instead of an integer will result in an error in the future\n",
      "  R = random_state.normal(size=(A.shape[1], size))\n",
      "/home/datascience/anaconda3/lib/python3.5/site-packages/sklearn/utils/extmath.py:317: VisibleDeprecationWarning: using a non-integer number instead of an integer will result in an error in the future\n",
      "  return V[:n_components, :].T, s[:n_components], U[:, :n_components].T\n",
      "/home/datascience/anaconda3/lib/python3.5/site-packages/sklearn/utils/extmath.py:218: VisibleDeprecationWarning: using a non-integer number instead of an integer will result in an error in the future\n",
      "  R = random_state.normal(size=(A.shape[1], size))\n",
      "/home/datascience/anaconda3/lib/python3.5/site-packages/sklearn/utils/extmath.py:317: VisibleDeprecationWarning: using a non-integer number instead of an integer will result in an error in the future\n",
      "  return V[:n_components, :].T, s[:n_components], U[:, :n_components].T\n",
      "/home/datascience/anaconda3/lib/python3.5/site-packages/sklearn/utils/extmath.py:218: VisibleDeprecationWarning: using a non-integer number instead of an integer will result in an error in the future\n",
      "  R = random_state.normal(size=(A.shape[1], size))\n",
      "/home/datascience/anaconda3/lib/python3.5/site-packages/sklearn/utils/extmath.py:317: VisibleDeprecationWarning: using a non-integer number instead of an integer will result in an error in the future\n",
      "  return V[:n_components, :].T, s[:n_components], U[:, :n_components].T\n",
      "/home/datascience/anaconda3/lib/python3.5/site-packages/sklearn/utils/extmath.py:218: VisibleDeprecationWarning: using a non-integer number instead of an integer will result in an error in the future\n",
      "  R = random_state.normal(size=(A.shape[1], size))\n",
      "/home/datascience/anaconda3/lib/python3.5/site-packages/sklearn/utils/extmath.py:317: VisibleDeprecationWarning: using a non-integer number instead of an integer will result in an error in the future\n",
      "  return V[:n_components, :].T, s[:n_components], U[:, :n_components].T\n",
      "/home/datascience/anaconda3/lib/python3.5/site-packages/sklearn/utils/extmath.py:218: VisibleDeprecationWarning: using a non-integer number instead of an integer will result in an error in the future\n",
      "  R = random_state.normal(size=(A.shape[1], size))\n",
      "/home/datascience/anaconda3/lib/python3.5/site-packages/sklearn/utils/extmath.py:317: VisibleDeprecationWarning: using a non-integer number instead of an integer will result in an error in the future\n",
      "  return V[:n_components, :].T, s[:n_components], U[:, :n_components].T\n",
      "/home/datascience/anaconda3/lib/python3.5/site-packages/sklearn/utils/extmath.py:218: VisibleDeprecationWarning: using a non-integer number instead of an integer will result in an error in the future\n",
      "  R = random_state.normal(size=(A.shape[1], size))\n",
      "/home/datascience/anaconda3/lib/python3.5/site-packages/sklearn/utils/extmath.py:317: VisibleDeprecationWarning: using a non-integer number instead of an integer will result in an error in the future\n",
      "  return V[:n_components, :].T, s[:n_components], U[:, :n_components].T\n"
     ]
    },
    {
     "data": {
      "text/plain": [
       "RandomizedSearchCV(cv=3, error_score='raise',\n",
       "          estimator=Pipeline(steps=[('tfidf', TfidfVectorizer(analyzer='word', binary=False, decode_error='strict',\n",
       "        dtype=<class 'numpy.int64'>, encoding='utf-8', input='content',\n",
       "        lowercase=True, max_df=1.0, max_features=None, min_df=1,\n",
       "        ngram_range=(1, 1), norm='l2', preprocessor=None, smooth_idf=True,\n",
       " ...wski',\n",
       "           metric_params=None, n_jobs=1, n_neighbors=10, p=2,\n",
       "           weights='uniform'))]),\n",
       "          fit_params={}, iid=True, n_iter=20, n_jobs=1,\n",
       "          param_distributions={'clf__weights': ['uniform', 'distance'], 'clf__n_neighbors': range(1, 60)},\n",
       "          pre_dispatch='2*n_jobs', random_state=None, refit=True,\n",
       "          scoring='accuracy', verbose=0)"
      ]
     },
     "execution_count": 51,
     "metadata": {},
     "output_type": "execute_result"
    }
   ],
   "source": [
    "#print(hyperpar_selector)\n",
    "\n",
    "hyperpar_selector.fit(X=x_data_train, y=y_data_train)"
   ]
  },
  {
   "cell_type": "code",
   "execution_count": 52,
   "metadata": {
    "collapsed": false
   },
   "outputs": [
    {
     "name": "stderr",
     "output_type": "stream",
     "text": [
      "/home/datascience/anaconda3/lib/python3.5/site-packages/sklearn/utils/extmath.py:218: VisibleDeprecationWarning: using a non-integer number instead of an integer will result in an error in the future\n",
      "  R = random_state.normal(size=(A.shape[1], size))\n",
      "/home/datascience/anaconda3/lib/python3.5/site-packages/sklearn/utils/extmath.py:317: VisibleDeprecationWarning: using a non-integer number instead of an integer will result in an error in the future\n",
      "  return V[:n_components, :].T, s[:n_components], U[:, :n_components].T\n",
      "/home/datascience/anaconda3/lib/python3.5/site-packages/sklearn/utils/extmath.py:218: VisibleDeprecationWarning: using a non-integer number instead of an integer will result in an error in the future\n",
      "  R = random_state.normal(size=(A.shape[1], size))\n",
      "/home/datascience/anaconda3/lib/python3.5/site-packages/sklearn/utils/extmath.py:317: VisibleDeprecationWarning: using a non-integer number instead of an integer will result in an error in the future\n",
      "  return V[:n_components, :].T, s[:n_components], U[:, :n_components].T\n",
      "/home/datascience/anaconda3/lib/python3.5/site-packages/sklearn/utils/extmath.py:218: VisibleDeprecationWarning: using a non-integer number instead of an integer will result in an error in the future\n",
      "  R = random_state.normal(size=(A.shape[1], size))\n",
      "/home/datascience/anaconda3/lib/python3.5/site-packages/sklearn/utils/extmath.py:317: VisibleDeprecationWarning: using a non-integer number instead of an integer will result in an error in the future\n",
      "  return V[:n_components, :].T, s[:n_components], U[:, :n_components].T\n",
      "/home/datascience/anaconda3/lib/python3.5/site-packages/sklearn/utils/extmath.py:218: VisibleDeprecationWarning: using a non-integer number instead of an integer will result in an error in the future\n",
      "  R = random_state.normal(size=(A.shape[1], size))\n",
      "/home/datascience/anaconda3/lib/python3.5/site-packages/sklearn/utils/extmath.py:317: VisibleDeprecationWarning: using a non-integer number instead of an integer will result in an error in the future\n",
      "  return V[:n_components, :].T, s[:n_components], U[:, :n_components].T\n",
      "/home/datascience/anaconda3/lib/python3.5/site-packages/sklearn/utils/extmath.py:218: VisibleDeprecationWarning: using a non-integer number instead of an integer will result in an error in the future\n",
      "  R = random_state.normal(size=(A.shape[1], size))\n",
      "/home/datascience/anaconda3/lib/python3.5/site-packages/sklearn/utils/extmath.py:317: VisibleDeprecationWarning: using a non-integer number instead of an integer will result in an error in the future\n",
      "  return V[:n_components, :].T, s[:n_components], U[:, :n_components].T\n",
      "/home/datascience/anaconda3/lib/python3.5/site-packages/sklearn/utils/extmath.py:218: VisibleDeprecationWarning: using a non-integer number instead of an integer will result in an error in the future\n",
      "  R = random_state.normal(size=(A.shape[1], size))\n",
      "/home/datascience/anaconda3/lib/python3.5/site-packages/sklearn/utils/extmath.py:317: VisibleDeprecationWarning: using a non-integer number instead of an integer will result in an error in the future\n",
      "  return V[:n_components, :].T, s[:n_components], U[:, :n_components].T\n",
      "/home/datascience/anaconda3/lib/python3.5/site-packages/sklearn/utils/extmath.py:218: VisibleDeprecationWarning: using a non-integer number instead of an integer will result in an error in the future\n",
      "  R = random_state.normal(size=(A.shape[1], size))\n",
      "/home/datascience/anaconda3/lib/python3.5/site-packages/sklearn/utils/extmath.py:317: VisibleDeprecationWarning: using a non-integer number instead of an integer will result in an error in the future\n",
      "  return V[:n_components, :].T, s[:n_components], U[:, :n_components].T\n",
      "/home/datascience/anaconda3/lib/python3.5/site-packages/sklearn/utils/extmath.py:218: VisibleDeprecationWarning: using a non-integer number instead of an integer will result in an error in the future\n",
      "  R = random_state.normal(size=(A.shape[1], size))\n",
      "/home/datascience/anaconda3/lib/python3.5/site-packages/sklearn/utils/extmath.py:317: VisibleDeprecationWarning: using a non-integer number instead of an integer will result in an error in the future\n",
      "  return V[:n_components, :].T, s[:n_components], U[:, :n_components].T\n",
      "/home/datascience/anaconda3/lib/python3.5/site-packages/sklearn/utils/extmath.py:218: VisibleDeprecationWarning: using a non-integer number instead of an integer will result in an error in the future\n",
      "  R = random_state.normal(size=(A.shape[1], size))\n",
      "/home/datascience/anaconda3/lib/python3.5/site-packages/sklearn/utils/extmath.py:317: VisibleDeprecationWarning: using a non-integer number instead of an integer will result in an error in the future\n",
      "  return V[:n_components, :].T, s[:n_components], U[:, :n_components].T\n",
      "/home/datascience/anaconda3/lib/python3.5/site-packages/sklearn/utils/extmath.py:218: VisibleDeprecationWarning: using a non-integer number instead of an integer will result in an error in the future\n",
      "  R = random_state.normal(size=(A.shape[1], size))\n",
      "/home/datascience/anaconda3/lib/python3.5/site-packages/sklearn/utils/extmath.py:317: VisibleDeprecationWarning: using a non-integer number instead of an integer will result in an error in the future\n",
      "  return V[:n_components, :].T, s[:n_components], U[:, :n_components].T\n",
      "/home/datascience/anaconda3/lib/python3.5/site-packages/sklearn/utils/extmath.py:218: VisibleDeprecationWarning: using a non-integer number instead of an integer will result in an error in the future\n",
      "  R = random_state.normal(size=(A.shape[1], size))\n",
      "/home/datascience/anaconda3/lib/python3.5/site-packages/sklearn/utils/extmath.py:317: VisibleDeprecationWarning: using a non-integer number instead of an integer will result in an error in the future\n",
      "  return V[:n_components, :].T, s[:n_components], U[:, :n_components].T\n",
      "/home/datascience/anaconda3/lib/python3.5/site-packages/sklearn/utils/extmath.py:218: VisibleDeprecationWarning: using a non-integer number instead of an integer will result in an error in the future\n",
      "  R = random_state.normal(size=(A.shape[1], size))\n",
      "/home/datascience/anaconda3/lib/python3.5/site-packages/sklearn/utils/extmath.py:317: VisibleDeprecationWarning: using a non-integer number instead of an integer will result in an error in the future\n",
      "  return V[:n_components, :].T, s[:n_components], U[:, :n_components].T\n",
      "/home/datascience/anaconda3/lib/python3.5/site-packages/sklearn/utils/extmath.py:218: VisibleDeprecationWarning: using a non-integer number instead of an integer will result in an error in the future\n",
      "  R = random_state.normal(size=(A.shape[1], size))\n",
      "/home/datascience/anaconda3/lib/python3.5/site-packages/sklearn/utils/extmath.py:317: VisibleDeprecationWarning: using a non-integer number instead of an integer will result in an error in the future\n",
      "  return V[:n_components, :].T, s[:n_components], U[:, :n_components].T\n",
      "/home/datascience/anaconda3/lib/python3.5/site-packages/sklearn/utils/extmath.py:218: VisibleDeprecationWarning: using a non-integer number instead of an integer will result in an error in the future\n",
      "  R = random_state.normal(size=(A.shape[1], size))\n",
      "/home/datascience/anaconda3/lib/python3.5/site-packages/sklearn/utils/extmath.py:317: VisibleDeprecationWarning: using a non-integer number instead of an integer will result in an error in the future\n",
      "  return V[:n_components, :].T, s[:n_components], U[:, :n_components].T\n",
      "/home/datascience/anaconda3/lib/python3.5/site-packages/sklearn/utils/extmath.py:218: VisibleDeprecationWarning: using a non-integer number instead of an integer will result in an error in the future\n",
      "  R = random_state.normal(size=(A.shape[1], size))\n",
      "/home/datascience/anaconda3/lib/python3.5/site-packages/sklearn/utils/extmath.py:317: VisibleDeprecationWarning: using a non-integer number instead of an integer will result in an error in the future\n",
      "  return V[:n_components, :].T, s[:n_components], U[:, :n_components].T\n",
      "/home/datascience/anaconda3/lib/python3.5/site-packages/sklearn/utils/extmath.py:218: VisibleDeprecationWarning: using a non-integer number instead of an integer will result in an error in the future\n",
      "  R = random_state.normal(size=(A.shape[1], size))\n",
      "/home/datascience/anaconda3/lib/python3.5/site-packages/sklearn/utils/extmath.py:317: VisibleDeprecationWarning: using a non-integer number instead of an integer will result in an error in the future\n",
      "  return V[:n_components, :].T, s[:n_components], U[:, :n_components].T\n",
      "/home/datascience/anaconda3/lib/python3.5/site-packages/sklearn/utils/extmath.py:218: VisibleDeprecationWarning: using a non-integer number instead of an integer will result in an error in the future\n",
      "  R = random_state.normal(size=(A.shape[1], size))\n",
      "/home/datascience/anaconda3/lib/python3.5/site-packages/sklearn/utils/extmath.py:317: VisibleDeprecationWarning: using a non-integer number instead of an integer will result in an error in the future\n",
      "  return V[:n_components, :].T, s[:n_components], U[:, :n_components].T\n",
      "/home/datascience/anaconda3/lib/python3.5/site-packages/sklearn/utils/extmath.py:218: VisibleDeprecationWarning: using a non-integer number instead of an integer will result in an error in the future\n",
      "  R = random_state.normal(size=(A.shape[1], size))\n",
      "/home/datascience/anaconda3/lib/python3.5/site-packages/sklearn/utils/extmath.py:317: VisibleDeprecationWarning: using a non-integer number instead of an integer will result in an error in the future\n",
      "  return V[:n_components, :].T, s[:n_components], U[:, :n_components].T\n",
      "/home/datascience/anaconda3/lib/python3.5/site-packages/sklearn/utils/extmath.py:218: VisibleDeprecationWarning: using a non-integer number instead of an integer will result in an error in the future\n",
      "  R = random_state.normal(size=(A.shape[1], size))\n",
      "/home/datascience/anaconda3/lib/python3.5/site-packages/sklearn/utils/extmath.py:317: VisibleDeprecationWarning: using a non-integer number instead of an integer will result in an error in the future\n",
      "  return V[:n_components, :].T, s[:n_components], U[:, :n_components].T\n",
      "/home/datascience/anaconda3/lib/python3.5/site-packages/sklearn/utils/extmath.py:218: VisibleDeprecationWarning: using a non-integer number instead of an integer will result in an error in the future\n",
      "  R = random_state.normal(size=(A.shape[1], size))\n",
      "/home/datascience/anaconda3/lib/python3.5/site-packages/sklearn/utils/extmath.py:317: VisibleDeprecationWarning: using a non-integer number instead of an integer will result in an error in the future\n",
      "  return V[:n_components, :].T, s[:n_components], U[:, :n_components].T\n",
      "/home/datascience/anaconda3/lib/python3.5/site-packages/sklearn/utils/extmath.py:218: VisibleDeprecationWarning: using a non-integer number instead of an integer will result in an error in the future\n",
      "  R = random_state.normal(size=(A.shape[1], size))\n",
      "/home/datascience/anaconda3/lib/python3.5/site-packages/sklearn/utils/extmath.py:317: VisibleDeprecationWarning: using a non-integer number instead of an integer will result in an error in the future\n",
      "  return V[:n_components, :].T, s[:n_components], U[:, :n_components].T\n",
      "/home/datascience/anaconda3/lib/python3.5/site-packages/sklearn/utils/extmath.py:218: VisibleDeprecationWarning: using a non-integer number instead of an integer will result in an error in the future\n",
      "  R = random_state.normal(size=(A.shape[1], size))\n",
      "/home/datascience/anaconda3/lib/python3.5/site-packages/sklearn/utils/extmath.py:317: VisibleDeprecationWarning: using a non-integer number instead of an integer will result in an error in the future\n",
      "  return V[:n_components, :].T, s[:n_components], U[:, :n_components].T\n",
      "/home/datascience/anaconda3/lib/python3.5/site-packages/sklearn/utils/extmath.py:218: VisibleDeprecationWarning: using a non-integer number instead of an integer will result in an error in the future\n",
      "  R = random_state.normal(size=(A.shape[1], size))\n",
      "/home/datascience/anaconda3/lib/python3.5/site-packages/sklearn/utils/extmath.py:317: VisibleDeprecationWarning: using a non-integer number instead of an integer will result in an error in the future\n",
      "  return V[:n_components, :].T, s[:n_components], U[:, :n_components].T\n",
      "/home/datascience/anaconda3/lib/python3.5/site-packages/sklearn/utils/extmath.py:218: VisibleDeprecationWarning: using a non-integer number instead of an integer will result in an error in the future\n",
      "  R = random_state.normal(size=(A.shape[1], size))\n",
      "/home/datascience/anaconda3/lib/python3.5/site-packages/sklearn/utils/extmath.py:317: VisibleDeprecationWarning: using a non-integer number instead of an integer will result in an error in the future\n",
      "  return V[:n_components, :].T, s[:n_components], U[:, :n_components].T\n",
      "/home/datascience/anaconda3/lib/python3.5/site-packages/sklearn/utils/extmath.py:218: VisibleDeprecationWarning: using a non-integer number instead of an integer will result in an error in the future\n",
      "  R = random_state.normal(size=(A.shape[1], size))\n",
      "/home/datascience/anaconda3/lib/python3.5/site-packages/sklearn/utils/extmath.py:317: VisibleDeprecationWarning: using a non-integer number instead of an integer will result in an error in the future\n",
      "  return V[:n_components, :].T, s[:n_components], U[:, :n_components].T\n",
      "/home/datascience/anaconda3/lib/python3.5/site-packages/sklearn/utils/extmath.py:218: VisibleDeprecationWarning: using a non-integer number instead of an integer will result in an error in the future\n",
      "  R = random_state.normal(size=(A.shape[1], size))\n",
      "/home/datascience/anaconda3/lib/python3.5/site-packages/sklearn/utils/extmath.py:317: VisibleDeprecationWarning: using a non-integer number instead of an integer will result in an error in the future\n",
      "  return V[:n_components, :].T, s[:n_components], U[:, :n_components].T\n",
      "/home/datascience/anaconda3/lib/python3.5/site-packages/sklearn/utils/extmath.py:218: VisibleDeprecationWarning: using a non-integer number instead of an integer will result in an error in the future\n",
      "  R = random_state.normal(size=(A.shape[1], size))\n",
      "/home/datascience/anaconda3/lib/python3.5/site-packages/sklearn/utils/extmath.py:317: VisibleDeprecationWarning: using a non-integer number instead of an integer will result in an error in the future\n",
      "  return V[:n_components, :].T, s[:n_components], U[:, :n_components].T\n",
      "/home/datascience/anaconda3/lib/python3.5/site-packages/sklearn/utils/extmath.py:218: VisibleDeprecationWarning: using a non-integer number instead of an integer will result in an error in the future\n",
      "  R = random_state.normal(size=(A.shape[1], size))\n",
      "/home/datascience/anaconda3/lib/python3.5/site-packages/sklearn/utils/extmath.py:317: VisibleDeprecationWarning: using a non-integer number instead of an integer will result in an error in the future\n",
      "  return V[:n_components, :].T, s[:n_components], U[:, :n_components].T\n",
      "/home/datascience/anaconda3/lib/python3.5/site-packages/sklearn/utils/extmath.py:218: VisibleDeprecationWarning: using a non-integer number instead of an integer will result in an error in the future\n",
      "  R = random_state.normal(size=(A.shape[1], size))\n",
      "/home/datascience/anaconda3/lib/python3.5/site-packages/sklearn/utils/extmath.py:317: VisibleDeprecationWarning: using a non-integer number instead of an integer will result in an error in the future\n",
      "  return V[:n_components, :].T, s[:n_components], U[:, :n_components].T\n",
      "/home/datascience/anaconda3/lib/python3.5/site-packages/sklearn/utils/extmath.py:218: VisibleDeprecationWarning: using a non-integer number instead of an integer will result in an error in the future\n",
      "  R = random_state.normal(size=(A.shape[1], size))\n",
      "/home/datascience/anaconda3/lib/python3.5/site-packages/sklearn/utils/extmath.py:317: VisibleDeprecationWarning: using a non-integer number instead of an integer will result in an error in the future\n",
      "  return V[:n_components, :].T, s[:n_components], U[:, :n_components].T\n",
      "/home/datascience/anaconda3/lib/python3.5/site-packages/sklearn/utils/extmath.py:218: VisibleDeprecationWarning: using a non-integer number instead of an integer will result in an error in the future\n",
      "  R = random_state.normal(size=(A.shape[1], size))\n",
      "/home/datascience/anaconda3/lib/python3.5/site-packages/sklearn/utils/extmath.py:317: VisibleDeprecationWarning: using a non-integer number instead of an integer will result in an error in the future\n",
      "  return V[:n_components, :].T, s[:n_components], U[:, :n_components].T\n",
      "/home/datascience/anaconda3/lib/python3.5/site-packages/sklearn/utils/extmath.py:218: VisibleDeprecationWarning: using a non-integer number instead of an integer will result in an error in the future\n",
      "  R = random_state.normal(size=(A.shape[1], size))\n",
      "/home/datascience/anaconda3/lib/python3.5/site-packages/sklearn/utils/extmath.py:317: VisibleDeprecationWarning: using a non-integer number instead of an integer will result in an error in the future\n",
      "  return V[:n_components, :].T, s[:n_components], U[:, :n_components].T\n",
      "/home/datascience/anaconda3/lib/python3.5/site-packages/sklearn/utils/extmath.py:218: VisibleDeprecationWarning: using a non-integer number instead of an integer will result in an error in the future\n",
      "  R = random_state.normal(size=(A.shape[1], size))\n",
      "/home/datascience/anaconda3/lib/python3.5/site-packages/sklearn/utils/extmath.py:317: VisibleDeprecationWarning: using a non-integer number instead of an integer will result in an error in the future\n",
      "  return V[:n_components, :].T, s[:n_components], U[:, :n_components].T\n",
      "/home/datascience/anaconda3/lib/python3.5/site-packages/sklearn/utils/extmath.py:218: VisibleDeprecationWarning: using a non-integer number instead of an integer will result in an error in the future\n",
      "  R = random_state.normal(size=(A.shape[1], size))\n",
      "/home/datascience/anaconda3/lib/python3.5/site-packages/sklearn/utils/extmath.py:317: VisibleDeprecationWarning: using a non-integer number instead of an integer will result in an error in the future\n",
      "  return V[:n_components, :].T, s[:n_components], U[:, :n_components].T\n",
      "/home/datascience/anaconda3/lib/python3.5/site-packages/sklearn/utils/extmath.py:218: VisibleDeprecationWarning: using a non-integer number instead of an integer will result in an error in the future\n",
      "  R = random_state.normal(size=(A.shape[1], size))\n",
      "/home/datascience/anaconda3/lib/python3.5/site-packages/sklearn/utils/extmath.py:317: VisibleDeprecationWarning: using a non-integer number instead of an integer will result in an error in the future\n",
      "  return V[:n_components, :].T, s[:n_components], U[:, :n_components].T\n",
      "/home/datascience/anaconda3/lib/python3.5/site-packages/sklearn/utils/extmath.py:218: VisibleDeprecationWarning: using a non-integer number instead of an integer will result in an error in the future\n",
      "  R = random_state.normal(size=(A.shape[1], size))\n",
      "/home/datascience/anaconda3/lib/python3.5/site-packages/sklearn/utils/extmath.py:317: VisibleDeprecationWarning: using a non-integer number instead of an integer will result in an error in the future\n",
      "  return V[:n_components, :].T, s[:n_components], U[:, :n_components].T\n",
      "/home/datascience/anaconda3/lib/python3.5/site-packages/sklearn/utils/extmath.py:218: VisibleDeprecationWarning: using a non-integer number instead of an integer will result in an error in the future\n",
      "  R = random_state.normal(size=(A.shape[1], size))\n",
      "/home/datascience/anaconda3/lib/python3.5/site-packages/sklearn/utils/extmath.py:317: VisibleDeprecationWarning: using a non-integer number instead of an integer will result in an error in the future\n",
      "  return V[:n_components, :].T, s[:n_components], U[:, :n_components].T\n",
      "/home/datascience/anaconda3/lib/python3.5/site-packages/sklearn/utils/extmath.py:218: VisibleDeprecationWarning: using a non-integer number instead of an integer will result in an error in the future\n",
      "  R = random_state.normal(size=(A.shape[1], size))\n",
      "/home/datascience/anaconda3/lib/python3.5/site-packages/sklearn/utils/extmath.py:317: VisibleDeprecationWarning: using a non-integer number instead of an integer will result in an error in the future\n",
      "  return V[:n_components, :].T, s[:n_components], U[:, :n_components].T\n",
      "/home/datascience/anaconda3/lib/python3.5/site-packages/sklearn/utils/extmath.py:218: VisibleDeprecationWarning: using a non-integer number instead of an integer will result in an error in the future\n",
      "  R = random_state.normal(size=(A.shape[1], size))\n",
      "/home/datascience/anaconda3/lib/python3.5/site-packages/sklearn/utils/extmath.py:317: VisibleDeprecationWarning: using a non-integer number instead of an integer will result in an error in the future\n",
      "  return V[:n_components, :].T, s[:n_components], U[:, :n_components].T\n",
      "/home/datascience/anaconda3/lib/python3.5/site-packages/sklearn/utils/extmath.py:218: VisibleDeprecationWarning: using a non-integer number instead of an integer will result in an error in the future\n",
      "  R = random_state.normal(size=(A.shape[1], size))\n",
      "/home/datascience/anaconda3/lib/python3.5/site-packages/sklearn/utils/extmath.py:317: VisibleDeprecationWarning: using a non-integer number instead of an integer will result in an error in the future\n",
      "  return V[:n_components, :].T, s[:n_components], U[:, :n_components].T\n",
      "/home/datascience/anaconda3/lib/python3.5/site-packages/sklearn/utils/extmath.py:218: VisibleDeprecationWarning: using a non-integer number instead of an integer will result in an error in the future\n",
      "  R = random_state.normal(size=(A.shape[1], size))\n",
      "/home/datascience/anaconda3/lib/python3.5/site-packages/sklearn/utils/extmath.py:317: VisibleDeprecationWarning: using a non-integer number instead of an integer will result in an error in the future\n",
      "  return V[:n_components, :].T, s[:n_components], U[:, :n_components].T\n",
      "/home/datascience/anaconda3/lib/python3.5/site-packages/sklearn/utils/extmath.py:218: VisibleDeprecationWarning: using a non-integer number instead of an integer will result in an error in the future\n",
      "  R = random_state.normal(size=(A.shape[1], size))\n",
      "/home/datascience/anaconda3/lib/python3.5/site-packages/sklearn/utils/extmath.py:317: VisibleDeprecationWarning: using a non-integer number instead of an integer will result in an error in the future\n",
      "  return V[:n_components, :].T, s[:n_components], U[:, :n_components].T\n",
      "/home/datascience/anaconda3/lib/python3.5/site-packages/sklearn/utils/extmath.py:218: VisibleDeprecationWarning: using a non-integer number instead of an integer will result in an error in the future\n",
      "  R = random_state.normal(size=(A.shape[1], size))\n",
      "/home/datascience/anaconda3/lib/python3.5/site-packages/sklearn/utils/extmath.py:317: VisibleDeprecationWarning: using a non-integer number instead of an integer will result in an error in the future\n",
      "  return V[:n_components, :].T, s[:n_components], U[:, :n_components].T\n",
      "/home/datascience/anaconda3/lib/python3.5/site-packages/sklearn/utils/extmath.py:218: VisibleDeprecationWarning: using a non-integer number instead of an integer will result in an error in the future\n",
      "  R = random_state.normal(size=(A.shape[1], size))\n",
      "/home/datascience/anaconda3/lib/python3.5/site-packages/sklearn/utils/extmath.py:317: VisibleDeprecationWarning: using a non-integer number instead of an integer will result in an error in the future\n",
      "  return V[:n_components, :].T, s[:n_components], U[:, :n_components].T\n",
      "/home/datascience/anaconda3/lib/python3.5/site-packages/sklearn/utils/extmath.py:218: VisibleDeprecationWarning: using a non-integer number instead of an integer will result in an error in the future\n",
      "  R = random_state.normal(size=(A.shape[1], size))\n",
      "/home/datascience/anaconda3/lib/python3.5/site-packages/sklearn/utils/extmath.py:317: VisibleDeprecationWarning: using a non-integer number instead of an integer will result in an error in the future\n",
      "  return V[:n_components, :].T, s[:n_components], U[:, :n_components].T\n",
      "/home/datascience/anaconda3/lib/python3.5/site-packages/sklearn/utils/extmath.py:218: VisibleDeprecationWarning: using a non-integer number instead of an integer will result in an error in the future\n",
      "  R = random_state.normal(size=(A.shape[1], size))\n",
      "/home/datascience/anaconda3/lib/python3.5/site-packages/sklearn/utils/extmath.py:317: VisibleDeprecationWarning: using a non-integer number instead of an integer will result in an error in the future\n",
      "  return V[:n_components, :].T, s[:n_components], U[:, :n_components].T\n",
      "/home/datascience/anaconda3/lib/python3.5/site-packages/sklearn/utils/extmath.py:218: VisibleDeprecationWarning: using a non-integer number instead of an integer will result in an error in the future\n",
      "  R = random_state.normal(size=(A.shape[1], size))\n",
      "/home/datascience/anaconda3/lib/python3.5/site-packages/sklearn/utils/extmath.py:317: VisibleDeprecationWarning: using a non-integer number instead of an integer will result in an error in the future\n",
      "  return V[:n_components, :].T, s[:n_components], U[:, :n_components].T\n",
      "/home/datascience/anaconda3/lib/python3.5/site-packages/sklearn/utils/extmath.py:218: VisibleDeprecationWarning: using a non-integer number instead of an integer will result in an error in the future\n",
      "  R = random_state.normal(size=(A.shape[1], size))\n",
      "/home/datascience/anaconda3/lib/python3.5/site-packages/sklearn/utils/extmath.py:317: VisibleDeprecationWarning: using a non-integer number instead of an integer will result in an error in the future\n",
      "  return V[:n_components, :].T, s[:n_components], U[:, :n_components].T\n",
      "/home/datascience/anaconda3/lib/python3.5/site-packages/sklearn/utils/extmath.py:218: VisibleDeprecationWarning: using a non-integer number instead of an integer will result in an error in the future\n",
      "  R = random_state.normal(size=(A.shape[1], size))\n",
      "/home/datascience/anaconda3/lib/python3.5/site-packages/sklearn/utils/extmath.py:317: VisibleDeprecationWarning: using a non-integer number instead of an integer will result in an error in the future\n",
      "  return V[:n_components, :].T, s[:n_components], U[:, :n_components].T\n",
      "/home/datascience/anaconda3/lib/python3.5/site-packages/sklearn/utils/extmath.py:218: VisibleDeprecationWarning: using a non-integer number instead of an integer will result in an error in the future\n",
      "  R = random_state.normal(size=(A.shape[1], size))\n",
      "/home/datascience/anaconda3/lib/python3.5/site-packages/sklearn/utils/extmath.py:317: VisibleDeprecationWarning: using a non-integer number instead of an integer will result in an error in the future\n",
      "  return V[:n_components, :].T, s[:n_components], U[:, :n_components].T\n",
      "/home/datascience/anaconda3/lib/python3.5/site-packages/sklearn/utils/extmath.py:218: VisibleDeprecationWarning: using a non-integer number instead of an integer will result in an error in the future\n",
      "  R = random_state.normal(size=(A.shape[1], size))\n",
      "/home/datascience/anaconda3/lib/python3.5/site-packages/sklearn/utils/extmath.py:317: VisibleDeprecationWarning: using a non-integer number instead of an integer will result in an error in the future\n",
      "  return V[:n_components, :].T, s[:n_components], U[:, :n_components].T\n",
      "/home/datascience/anaconda3/lib/python3.5/site-packages/sklearn/utils/extmath.py:218: VisibleDeprecationWarning: using a non-integer number instead of an integer will result in an error in the future\n",
      "  R = random_state.normal(size=(A.shape[1], size))\n",
      "/home/datascience/anaconda3/lib/python3.5/site-packages/sklearn/utils/extmath.py:317: VisibleDeprecationWarning: using a non-integer number instead of an integer will result in an error in the future\n",
      "  return V[:n_components, :].T, s[:n_components], U[:, :n_components].T\n",
      "/home/datascience/anaconda3/lib/python3.5/site-packages/sklearn/utils/extmath.py:218: VisibleDeprecationWarning: using a non-integer number instead of an integer will result in an error in the future\n",
      "  R = random_state.normal(size=(A.shape[1], size))\n",
      "/home/datascience/anaconda3/lib/python3.5/site-packages/sklearn/utils/extmath.py:317: VisibleDeprecationWarning: using a non-integer number instead of an integer will result in an error in the future\n",
      "  return V[:n_components, :].T, s[:n_components], U[:, :n_components].T\n",
      "/home/datascience/anaconda3/lib/python3.5/site-packages/sklearn/utils/extmath.py:218: VisibleDeprecationWarning: using a non-integer number instead of an integer will result in an error in the future\n",
      "  R = random_state.normal(size=(A.shape[1], size))\n",
      "/home/datascience/anaconda3/lib/python3.5/site-packages/sklearn/utils/extmath.py:317: VisibleDeprecationWarning: using a non-integer number instead of an integer will result in an error in the future\n",
      "  return V[:n_components, :].T, s[:n_components], U[:, :n_components].T\n",
      "/home/datascience/anaconda3/lib/python3.5/site-packages/sklearn/utils/extmath.py:218: VisibleDeprecationWarning: using a non-integer number instead of an integer will result in an error in the future\n",
      "  R = random_state.normal(size=(A.shape[1], size))\n",
      "/home/datascience/anaconda3/lib/python3.5/site-packages/sklearn/utils/extmath.py:317: VisibleDeprecationWarning: using a non-integer number instead of an integer will result in an error in the future\n",
      "  return V[:n_components, :].T, s[:n_components], U[:, :n_components].T\n",
      "/home/datascience/anaconda3/lib/python3.5/site-packages/sklearn/utils/extmath.py:218: VisibleDeprecationWarning: using a non-integer number instead of an integer will result in an error in the future\n",
      "  R = random_state.normal(size=(A.shape[1], size))\n",
      "/home/datascience/anaconda3/lib/python3.5/site-packages/sklearn/utils/extmath.py:317: VisibleDeprecationWarning: using a non-integer number instead of an integer will result in an error in the future\n",
      "  return V[:n_components, :].T, s[:n_components], U[:, :n_components].T\n",
      "/home/datascience/anaconda3/lib/python3.5/site-packages/sklearn/utils/extmath.py:218: VisibleDeprecationWarning: using a non-integer number instead of an integer will result in an error in the future\n",
      "  R = random_state.normal(size=(A.shape[1], size))\n",
      "/home/datascience/anaconda3/lib/python3.5/site-packages/sklearn/utils/extmath.py:317: VisibleDeprecationWarning: using a non-integer number instead of an integer will result in an error in the future\n",
      "  return V[:n_components, :].T, s[:n_components], U[:, :n_components].T\n",
      "/home/datascience/anaconda3/lib/python3.5/site-packages/sklearn/utils/extmath.py:218: VisibleDeprecationWarning: using a non-integer number instead of an integer will result in an error in the future\n",
      "  R = random_state.normal(size=(A.shape[1], size))\n",
      "/home/datascience/anaconda3/lib/python3.5/site-packages/sklearn/utils/extmath.py:317: VisibleDeprecationWarning: using a non-integer number instead of an integer will result in an error in the future\n",
      "  return V[:n_components, :].T, s[:n_components], U[:, :n_components].T\n",
      "/home/datascience/anaconda3/lib/python3.5/site-packages/sklearn/utils/extmath.py:218: VisibleDeprecationWarning: using a non-integer number instead of an integer will result in an error in the future\n",
      "  R = random_state.normal(size=(A.shape[1], size))\n",
      "/home/datascience/anaconda3/lib/python3.5/site-packages/sklearn/utils/extmath.py:317: VisibleDeprecationWarning: using a non-integer number instead of an integer will result in an error in the future\n",
      "  return V[:n_components, :].T, s[:n_components], U[:, :n_components].T\n",
      "/home/datascience/anaconda3/lib/python3.5/site-packages/sklearn/utils/extmath.py:218: VisibleDeprecationWarning: using a non-integer number instead of an integer will result in an error in the future\n",
      "  R = random_state.normal(size=(A.shape[1], size))\n",
      "/home/datascience/anaconda3/lib/python3.5/site-packages/sklearn/utils/extmath.py:317: VisibleDeprecationWarning: using a non-integer number instead of an integer will result in an error in the future\n",
      "  return V[:n_components, :].T, s[:n_components], U[:, :n_components].T\n",
      "/home/datascience/anaconda3/lib/python3.5/site-packages/sklearn/utils/extmath.py:218: VisibleDeprecationWarning: using a non-integer number instead of an integer will result in an error in the future\n",
      "  R = random_state.normal(size=(A.shape[1], size))\n"
     ]
    },
    {
     "name": "stdout",
     "output_type": "stream",
     "text": [
      "Best score: 0.639\n",
      "Best parameters set:\n",
      "\tclf__n_neighbors: 3\n",
      "\tclf__weights: 'distance'\n"
     ]
    },
    {
     "name": "stderr",
     "output_type": "stream",
     "text": [
      "/home/datascience/anaconda3/lib/python3.5/site-packages/sklearn/utils/extmath.py:317: VisibleDeprecationWarning: using a non-integer number instead of an integer will result in an error in the future\n",
      "  return V[:n_components, :].T, s[:n_components], U[:, :n_components].T\n"
     ]
    }
   ],
   "source": [
    "print(\"Best score: %0.3f\" % hyperpar_selector.best_score_)\n",
    "print(\"Best parameters set:\")\n",
    "best_parameters = hyperpar_selector.best_estimator_.get_params()\n",
    "for param_name in sorted(par.keys()):\n",
    "    print(\"\\t%s: %r\" % (param_name, best_parameters[param_name]))"
   ]
  },
  {
   "cell_type": "markdown",
   "metadata": {},
   "source": [
    "<b>4. Testando o classificador</b>"
   ]
  },
  {
   "cell_type": "markdown",
   "metadata": {},
   "source": [
    "<p>Agora vamos usar o classificador com o nosso dataset de testes, e observar os resultados:</p>"
   ]
  },
  {
   "cell_type": "code",
   "execution_count": 53,
   "metadata": {
    "collapsed": false
   },
   "outputs": [
    {
     "name": "stdout",
     "output_type": "stream",
     "text": [
      "0.697916666667\n"
     ]
    }
   ],
   "source": [
    "from sklearn.metrics import *\n",
    "\n",
    "y_pred = hyperpar_selector.predict(x_data_test)\n",
    "\n",
    "print(accuracy_score(y_data_test, y_pred))"
   ]
  },
  {
   "cell_type": "markdown",
   "metadata": {},
   "source": [
    "<b>5. Serializando o modelo</b><br>"
   ]
  },
  {
   "cell_type": "code",
   "execution_count": 54,
   "metadata": {
    "collapsed": false
   },
   "outputs": [],
   "source": [
    "import pickle\n",
    "\n",
    "string_obj = pickle.dumps(hyperpar_selector)"
   ]
  },
  {
   "cell_type": "code",
   "execution_count": 55,
   "metadata": {
    "collapsed": false
   },
   "outputs": [],
   "source": [
    "model_file = open('model.pkl', 'wb')\n",
    "\n",
    "model_file.write(string_obj)\n",
    "\n",
    "model_file.close()"
   ]
  },
  {
   "cell_type": "markdown",
   "metadata": {},
   "source": [
    "<b>6. Abrindo e usando um modelo salvo </b><br>"
   ]
  },
  {
   "cell_type": "code",
   "execution_count": 56,
   "metadata": {
    "collapsed": false
   },
   "outputs": [
    {
     "name": "stdout",
     "output_type": "stream",
     "text": [
      "[0]\n"
     ]
    }
   ],
   "source": [
    "\n",
    "model_file = open('model.pkl', 'rb')\n",
    "model_content = model_file.read()\n",
    "\n",
    "obj_classifier = pickle.loads(model_content)\n",
    "\n",
    "model_file.close()\n",
    "\n",
    "res = obj_classifier.predict([\"what's up bro?\"])\n",
    "\n",
    "print(res)"
   ]
  },
  {
   "cell_type": "code",
   "execution_count": 57,
   "metadata": {
    "collapsed": false
   },
   "outputs": [
    {
     "name": "stdout",
     "output_type": "stream",
     "text": [
      "0.697916666667\n"
     ]
    }
   ],
   "source": [
    "res = obj_classifier.predict(x_data_test)\n",
    "print(accuracy_score(y_data_test, res))"
   ]
  },
  {
   "cell_type": "code",
   "execution_count": 66,
   "metadata": {
    "collapsed": false
   },
   "outputs": [
    {
     "name": "stdout",
     "output_type": "stream",
     "text": [
      "[0 0 0 0 0 0 0 0 0 0 0 0 0 0 0 0 0 0 0 0 0 0 0 0 0 0 0 0 0 0 0 0 0 0 0 0 0\n",
      " 1 0 0 0 0 0 0 1 0 0 0 0 0 0 0 0 0 0 0 0 0 0 0 1 0 0 0 0 0 0 0 0 0 0 0 0 0\n",
      " 0 0 0 0 0 0 0 0 0 0 0 0 0 0 0 0 0 0 0 0 0 0 0 0 0 0 0 0 0 0 0 0 0 0 0 1 0\n",
      " 1 1 0 1 1 0 1 0 0 0 0 1 0 0 0 1 0 1 0 0 1 0 0 0 1 1 0 0 0 0 0 1 0 0 1 0 0\n",
      " 1 0 0 0 0 0 0 0 0 1 1 0 0 1 0 0 0 1 0 1 1 0 1 0 0 1 0 0 0 1 0 1 0 0 1 0 0\n",
      " 0 1 0 0 1 1 0]\n"
     ]
    }
   ],
   "source": [
    "res = obj_classifier.predict(x_data_test)\n",
    "\n",
    "print(res)"
   ]
  },
  {
   "cell_type": "code",
   "execution_count": 67,
   "metadata": {
    "collapsed": false
   },
   "outputs": [
    {
     "name": "stdout",
     "output_type": "stream",
     "text": [
      "first warning !!!!!\n",
      "\n",
      "didnt even look hang on\n",
      "\n",
      "what'd I miss?\n",
      "\n",
      "Sixteen years had Miss Taylor been in Mr . Woodhouse ' s family , less as a governess than a friend , very fond of both daughters , but particularly of Emma .\n",
      "\n",
      "She recalled her past kindness -- the kindness , the affection of sixteen years -- how she had taught and how she had played with her from five years old -- how she had devoted all her powers to attach and amuse her in health -- and how nursed her through the various illnesses of childhood .\n",
      "\n",
      "She had been a friend and companion such as few possessed : intelligent , well - informed , useful , gentle , knowing all the ways of the family , interested in all its concerns , and peculiarly interested in herself , in every pleasure , every scheme of hers -- one to whom she could speak every thought as it arose , and who had such an affection for her as could never find fault .\n",
      "\n",
      "All looked up to them .\n",
      "\n",
      "He was a nervous man , easily depressed ; fond of every body that he was used to , and hating to part with them ; hating change of every kind .\n",
      "\n",
      "_We_ must begin ; we must go and pay wedding visit very soon .\"\n",
      "\n",
      "Emma spared no exertions to maintain this happier flow of ideas , and hoped , by the help of backgammon , to get her father tolerably through the evening , and be attacked by no regrets but her own .\n",
      "\n",
      "\" Ah !\n",
      "\n",
      "\" Emma knows I never flatter her ,\" said Mr . Knightley , \" but I meant no reflection on any body .\n",
      "\n",
      "\" I do not understand what you mean by ` success ,'\" said Mr . Knightley .\n",
      "\n",
      "\" Only one more , papa ; only for Mr . Elton .\n",
      "\n",
      "Poor Mr . Elton !\n",
      "\n",
      "For a few days , every morning visit in Highbury included some mention of the handsome letter Mrs . Weston had received .\n",
      "\n",
      "CHAPTER III\n",
      "\n",
      "Real , long - standing regard brought the Westons and Mr . Knightley ; and by Mr . Elton , a young man living alone without liking it , the privilege of exchanging any vacant evening of his own blank solitude for the elegancies and society of Mr . Woodhouse ' s drawing - room , and the smiles of his lovely daughter , was in no danger of being thrown away .\n",
      "\n",
      "I would not recommend an egg boiled by any body else ; but you need not be afraid , they are very small , you see -- one of our small eggs will not hurt you .\n",
      "\n",
      "Miss Bates , let Emma help you to a _little_ bit of tart -- a _very_ little bit .\n",
      "\n",
      "For Mrs . Weston there was nothing to be done ; for Harriet every thing .\n",
      "\n",
      "Mrs . Goddard had dressed it on a Sunday , and asked all the three teachers , Miss Nash , and Miss Prince , and Miss Richardson , to sup with her .\"\n",
      "\n",
      "Martin ?\"\n",
      "\n",
      "\" Oh !\n",
      "\n",
      "I thought him very plain at first , but I do not think him so plain now .\n",
      "\n",
      "\" Only four - and - twenty .\n",
      "\n",
      "\" Yes , to be sure , I suppose there are .\n",
      "\n",
      "Not that I think Mr . Martin would ever marry any body but what had had some education -- and been very well brought up .\n",
      "\n",
      "That will be very bad .\"\n",
      "\n",
      "Did not I tell you what he said of you the other day ?\"\n",
      "\n",
      "CHAPTER V\n",
      "\n",
      "I have been seeing their intimacy with the greatest pleasure .\n",
      "\n"
     ]
    }
   ],
   "source": [
    "formal = [x_data_test[i] for i in range(len(res)) if res[i] == 1]\n",
    "\n",
    "for txt in formal:\n",
    "    print(\"%s\\n\" % txt)\n"
   ]
  },
  {
   "cell_type": "code",
   "execution_count": 68,
   "metadata": {
    "collapsed": false
   },
   "outputs": [
    {
     "name": "stdout",
     "output_type": "stream",
     "text": [
      "[1]\n"
     ]
    }
   ],
   "source": [
    "res2 = obj_classifier.predict([\"Emma spared no exertions to maintain this happier flow of ideas , and hoped , by the help of backgammon , to get her father tolerably through the evening , and be attacked by no regrets but her own\"])\n",
    "\n",
    "print(res2)"
   ]
  },
  {
   "cell_type": "code",
   "execution_count": null,
   "metadata": {
    "collapsed": true
   },
   "outputs": [],
   "source": []
  }
 ],
 "metadata": {
  "anaconda-cloud": {},
  "kernelspec": {
   "display_name": "Python [conda root]",
   "language": "python",
   "name": "conda-root-py"
  },
  "language_info": {
   "codemirror_mode": {
    "name": "ipython",
    "version": 3
   },
   "file_extension": ".py",
   "mimetype": "text/x-python",
   "name": "python",
   "nbconvert_exporter": "python",
   "pygments_lexer": "ipython3",
   "version": "3.5.2"
  }
 },
 "nbformat": 4,
 "nbformat_minor": 1
}

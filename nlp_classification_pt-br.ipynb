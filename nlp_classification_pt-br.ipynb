{
 "cells": [
  {
   "cell_type": "markdown",
   "metadata": {},
   "source": []
  },
  {
   "cell_type": "markdown",
   "metadata": {},
   "source": [
    "<h1 align=\"center\"> Introdução ao Processamento de Linguagem Natural (PLN) Usando Python </h1>\n",
    "<h3 align=\"center\"> Professor Fernando Vieira da Silva MSc.</h3>"
   ]
  },
  {
   "cell_type": "markdown",
   "metadata": {},
   "source": [
    "<h2>Problema de Classificação</h2>"
   ]
  },
  {
   "cell_type": "markdown",
   "metadata": {},
   "source": [
    "<p>Neste tutorial vamos trabalhar com um exemplo prático de problema de classificação de texto. O objetivo é identificar uma sentença como escrita \"formal\" ou \"informal\".</p>"
   ]
  },
  {
   "cell_type": "markdown",
   "metadata": {},
   "source": [
    "<b>1. Obtendo o corpus</b>"
   ]
  },
  {
   "cell_type": "markdown",
   "metadata": {},
   "source": [
    "<p>Para simplificar o problema, vamos continuar utilizando o corpus Gutenberg como textos formais e vamos usar mensagens de chat do corpus <b>nps_chat</b> como textos informais.</p>\n",
    "<p>Antes de tudo, vamos baixar o corpus nps_chat:</p>"
   ]
  },
  {
   "cell_type": "code",
   "execution_count": 1,
   "metadata": {
    "collapsed": false
   },
   "outputs": [
    {
     "name": "stdout",
     "output_type": "stream",
     "text": [
      "[nltk_data] Downloading package nps_chat to\n",
      "[nltk_data]     /home/fernando/nltk_data...\n",
      "[nltk_data]   Unzipping corpora/nps_chat.zip.\n"
     ]
    },
    {
     "data": {
      "text/plain": [
       "True"
      ]
     },
     "execution_count": 1,
     "metadata": {},
     "output_type": "execute_result"
    }
   ],
   "source": [
    "import nltk\n",
    "\n",
    "nltk.download('nps_chat')"
   ]
  },
  {
   "cell_type": "code",
   "execution_count": 2,
   "metadata": {
    "collapsed": false
   },
   "outputs": [
    {
     "name": "stdout",
     "output_type": "stream",
     "text": [
      "['10-19-20s_706posts.xml', '10-19-30s_705posts.xml', '10-19-40s_686posts.xml', '10-19-adults_706posts.xml', '10-24-40s_706posts.xml', '10-26-teens_706posts.xml', '11-06-adults_706posts.xml', '11-08-20s_705posts.xml', '11-08-40s_706posts.xml', '11-08-adults_705posts.xml', '11-08-teens_706posts.xml', '11-09-20s_706posts.xml', '11-09-40s_706posts.xml', '11-09-adults_706posts.xml', '11-09-teens_706posts.xml']\n"
     ]
    }
   ],
   "source": [
    "from nltk.corpus import nps_chat\n",
    "\n",
    "print(nps_chat.fileids())"
   ]
  },
  {
   "cell_type": "markdown",
   "metadata": {},
   "source": [
    "<p>Agora vamos ler os dois corpus e armazenar as sentenças em uma mesma ndarray. Perceba que também teremos uma ndarray para indicar se o texto é formal ou não. Começamos armazenando o corpus em lists. Vamos usar apenas 500 elementos de cada, para fins didáticos.</p>"
   ]
  },
  {
   "cell_type": "code",
   "execution_count": 3,
   "metadata": {
    "collapsed": false
   },
   "outputs": [
    {
     "name": "stdout",
     "output_type": "stream",
     "text": [
      "1000\n",
      "1000\n"
     ]
    }
   ],
   "source": [
    "import nltk\n",
    "\n",
    "x_data_nps = []\n",
    "\n",
    "for fileid in nltk.corpus.nps_chat.fileids():\n",
    "    x_data_nps.extend([post.text for post in nps_chat.xml_posts(fileid)])\n",
    "\n",
    "y_data_nps = [0] * len(x_data_nps)\n",
    "\n",
    "x_data_gut = []\n",
    "for fileid in nltk.corpus.gutenberg.fileids():\n",
    "    x_data_gut.extend([' '.join(sent) for sent in nltk.corpus.gutenberg.sents(fileid)])\n",
    "    \n",
    "y_data_gut = [1] * len(x_data_gut)\n",
    "\n",
    "x_data_full = x_data_nps[:500] + x_data_gut[:500]\n",
    "print(len(x_data_full))\n",
    "y_data_full = y_data_nps[:500] + y_data_gut[:500]\n",
    "print(len(y_data_full))"
   ]
  },
  {
   "cell_type": "markdown",
   "metadata": {},
   "source": [
    "<p>Em seguida, transformamos essas listas em ndarrays, para usarmos nas etapas de pré-processamento que já conhecemos.</p>"
   ]
  },
  {
   "cell_type": "code",
   "execution_count": 4,
   "metadata": {
    "collapsed": false
   },
   "outputs": [
    {
     "name": "stdout",
     "output_type": "stream",
     "text": [
      "(1000,)\n",
      "(1000,)\n"
     ]
    }
   ],
   "source": [
    "import numpy as np\n",
    "\n",
    "x_data = np.array(x_data_full, dtype=object)\n",
    "#x_data = np.array(x_data_full)\n",
    "print(x_data.shape)\n",
    "y_data = np.array(y_data_full)\n",
    "print(y_data.shape)"
   ]
  },
  {
   "cell_type": "markdown",
   "metadata": {},
   "source": [
    "<b>2. Dividindo em datasets de treino e teste</b>"
   ]
  },
  {
   "cell_type": "markdown",
   "metadata": {},
   "source": [
    "<p>Para que a pesquisa seja confiável, precisamos avaliar os resultados em um dataset de teste. Por isso, vamos dividir os dados aleatoriamente, deixando 80% para treino e o demais para testar os resultados em breve.</p>"
   ]
  },
  {
   "cell_type": "code",
   "execution_count": 5,
   "metadata": {
    "collapsed": false
   },
   "outputs": [
    {
     "name": "stdout",
     "output_type": "stream",
     "text": [
      "1000\n",
      "[ True  True  True  True  True  True False False False  True]\n"
     ]
    }
   ],
   "source": [
    "train_indexes = np.random.rand(len(x_data)) < 0.80\n",
    "\n",
    "print(len(train_indexes))\n",
    "print(train_indexes[:10])"
   ]
  },
  {
   "cell_type": "code",
   "execution_count": 6,
   "metadata": {
    "collapsed": false
   },
   "outputs": [
    {
     "name": "stdout",
     "output_type": "stream",
     "text": [
      "808\n",
      "808\n"
     ]
    }
   ],
   "source": [
    "x_data_train = x_data[train_indexes]\n",
    "y_data_train = y_data[train_indexes]\n",
    "\n",
    "print(len(x_data_train))\n",
    "print(len(y_data_train))"
   ]
  },
  {
   "cell_type": "code",
   "execution_count": 7,
   "metadata": {
    "collapsed": false
   },
   "outputs": [
    {
     "name": "stdout",
     "output_type": "stream",
     "text": [
      "192\n",
      "192\n"
     ]
    }
   ],
   "source": [
    "x_data_test = x_data[~train_indexes]\n",
    "y_data_test = y_data[~train_indexes]\n",
    "\n",
    "print(len(x_data_test))\n",
    "print(len(y_data_test))"
   ]
  },
  {
   "cell_type": "markdown",
   "metadata": {},
   "source": [
    "<b>3. Treinando o classificador</b>"
   ]
  },
  {
   "cell_type": "markdown",
   "metadata": {},
   "source": [
    "<p>Para tokenização, vamos usar a mesma função do tutorial anterior:</p>"
   ]
  },
  {
   "cell_type": "code",
   "execution_count": 8,
   "metadata": {
    "collapsed": false
   },
   "outputs": [],
   "source": [
    "from nltk import pos_tag\n",
    "from nltk.corpus import stopwords\n",
    "from nltk.stem import WordNetLemmatizer\n",
    "from nltk.tokenize import word_tokenize\n",
    "import string\n",
    "from nltk.corpus import wordnet\n",
    "\n",
    "stopwords_list = stopwords.words('english')\n",
    "\n",
    "lemmatizer = WordNetLemmatizer()\n",
    "\n",
    "def my_tokenizer(doc):\n",
    "    words = word_tokenize(doc)\n",
    "    \n",
    "    pos_tags = pos_tag(words)\n",
    "    \n",
    "    non_stopwords = [w for w in pos_tags if not w[0].lower() in stopwords_list]\n",
    "    \n",
    "    non_punctuation = [w for w in non_stopwords if not w[0] in string.punctuation]\n",
    "    \n",
    "    lemmas = []\n",
    "    for w in non_punctuation:\n",
    "        if w[1].startswith('J'):\n",
    "            pos = wordnet.ADJ\n",
    "        elif w[1].startswith('V'):\n",
    "            pos = wordnet.VERB\n",
    "        elif w[1].startswith('N'):\n",
    "            pos = wordnet.NOUN\n",
    "        elif w[1].startswith('R'):\n",
    "            pos = wordnet.ADV\n",
    "        else:\n",
    "            pos = wordnet.NOUN\n",
    "        \n",
    "        lemmas.append(lemmatizer.lemmatize(w[0], pos))\n",
    "\n",
    "    return lemmas\n",
    "    \n",
    "    "
   ]
  },
  {
   "cell_type": "markdown",
   "metadata": {},
   "source": [
    "<p>Mas agora vamos criar um <b>pipeline</b> contendo o vetorizador TF-IDF, o SVD para redução de atributos e um algoritmo de classificação. Mas antes, vamos encapsular nosso algoritmo para escolher o número de dimensões para o SVD em uma classe que pode ser utilizada com o pipeline:</p>"
   ]
  },
  {
   "cell_type": "code",
   "execution_count": 9,
   "metadata": {
    "collapsed": false
   },
   "outputs": [],
   "source": [
    "from sklearn.decomposition import TruncatedSVD\n",
    "\n",
    "class SVDDimSelect(object):\n",
    "    def fit(self, X, y=None):               \n",
    "        self.svd_transformer = TruncatedSVD(n_components=X.shape[1]/2)\n",
    "        self.svd_transformer.fit(X)\n",
    "        \n",
    "        cummulative_variance = 0.0\n",
    "        k = 0\n",
    "        for var in sorted(self.svd_transformer.explained_variance_ratio_)[::-1]:\n",
    "            cummulative_variance += var\n",
    "            if cummulative_variance >= 0.5:\n",
    "                break\n",
    "            else:\n",
    "                k += 1\n",
    "                \n",
    "        self.svd_transformer = TruncatedSVD(n_components=k)\n",
    "        return self.svd_transformer.fit(X)\n",
    "    \n",
    "    def transform(self, X, Y=None):\n",
    "        return self.svd_transformer.transform(X)\n",
    "        \n",
    "    def get_params(self, deep=True):\n",
    "        return {}"
   ]
  },
  {
   "cell_type": "markdown",
   "metadata": {},
   "source": [
    "<p>Finalmente podemos criar nosso pipeline:</p>"
   ]
  },
  {
   "cell_type": "code",
   "execution_count": 10,
   "metadata": {
    "collapsed": false
   },
   "outputs": [],
   "source": [
    "from sklearn.feature_extraction.text import TfidfVectorizer\n",
    "from sklearn.pipeline import Pipeline\n",
    "from sklearn import neighbors\n",
    "\n",
    "clf = neighbors.KNeighborsClassifier(n_neighbors=10, weights='uniform')\n",
    "\n",
    "my_pipeline = Pipeline([('tfidf', TfidfVectorizer(tokenizer=my_tokenizer)),\\\n",
    "                       ('svd', SVDDimSelect()), \\\n",
    "                       ('clf', clf)])"
   ]
  },
  {
   "cell_type": "markdown",
   "metadata": {},
   "source": [
    "<p>Estamos quase lá... Agora vamos criar um objeto <b>RandomizedSearchCV</b> que fará a seleção de hiper-parâmetros do nosso classificador (aka. parâmetros que não são aprendidos durante o treinamento). Essa etapa é importante para obtermos a melhor configuração do algoritmo de classificação. Para economizar tempo de treinamento, vamos usar um algoritmo simples o <i>K nearest neighbors (KNN)</i>."
   ]
  },
  {
   "cell_type": "code",
   "execution_count": 11,
   "metadata": {
    "collapsed": false
   },
   "outputs": [
    {
     "name": "stderr",
     "output_type": "stream",
     "text": [
      "/media/fernando/DADOS/lib/anaconda3-lubuntu/lib/python3.6/site-packages/sklearn/cross_validation.py:44: DeprecationWarning: This module was deprecated in version 0.18 in favor of the model_selection module into which all the refactored classes and functions are moved. Also note that the interface of the new CV iterators are different from that of this module. This module will be removed in 0.20.\n",
      "  \"This module will be removed in 0.20.\", DeprecationWarning)\n",
      "/media/fernando/DADOS/lib/anaconda3-lubuntu/lib/python3.6/site-packages/sklearn/grid_search.py:43: DeprecationWarning: This module was deprecated in version 0.18 in favor of the model_selection module into which all the refactored classes and functions are moved. This module will be removed in 0.20.\n",
      "  DeprecationWarning)\n"
     ]
    }
   ],
   "source": [
    "from sklearn.grid_search import RandomizedSearchCV\n",
    "import scipy\n",
    "\n",
    "par = {'clf__n_neighbors': range(1, 60), 'clf__weights': ['uniform', 'distance']}\n",
    "\n",
    "\n",
    "hyperpar_selector = RandomizedSearchCV(my_pipeline, par, cv=3, scoring='accuracy', n_jobs=2, n_iter=20)\n"
   ]
  },
  {
   "cell_type": "markdown",
   "metadata": {},
   "source": [
    "<p>E agora vamos treinar nosso algoritmo, usando o pipeline com seleção de atributos:</p>"
   ]
  },
  {
   "cell_type": "code",
   "execution_count": 12,
   "metadata": {
    "collapsed": false,
    "scrolled": true
   },
   "outputs": [
    {
     "name": "stderr",
     "output_type": "stream",
     "text": [
      "/media/fernando/DADOS/lib/anaconda3-lubuntu/lib/python3.6/site-packages/sklearn/utils/extmath.py:242: VisibleDeprecationWarning: using a non-integer number instead of an integer will result in an error in the future\n",
      "  Q = random_state.normal(size=(A.shape[1], size))\n",
      "/media/fernando/DADOS/lib/anaconda3-lubuntu/lib/python3.6/site-packages/sklearn/utils/extmath.py:242: VisibleDeprecationWarning: using a non-integer number instead of an integer will result in an error in the future\n",
      "  Q = random_state.normal(size=(A.shape[1], size))\n",
      "/media/fernando/DADOS/lib/anaconda3-lubuntu/lib/python3.6/site-packages/sklearn/utils/extmath.py:384: VisibleDeprecationWarning: using a non-integer number instead of an integer will result in an error in the future\n",
      "  return V[:n_components, :].T, s[:n_components], U[:, :n_components].T\n",
      "/media/fernando/DADOS/lib/anaconda3-lubuntu/lib/python3.6/site-packages/sklearn/utils/extmath.py:384: VisibleDeprecationWarning: using a non-integer number instead of an integer will result in an error in the future\n",
      "  return V[:n_components, :].T, s[:n_components], U[:, :n_components].T\n",
      "/media/fernando/DADOS/lib/anaconda3-lubuntu/lib/python3.6/site-packages/sklearn/utils/extmath.py:242: VisibleDeprecationWarning: using a non-integer number instead of an integer will result in an error in the future\n",
      "  Q = random_state.normal(size=(A.shape[1], size))\n",
      "/media/fernando/DADOS/lib/anaconda3-lubuntu/lib/python3.6/site-packages/sklearn/utils/extmath.py:242: VisibleDeprecationWarning: using a non-integer number instead of an integer will result in an error in the future\n",
      "  Q = random_state.normal(size=(A.shape[1], size))\n",
      "/media/fernando/DADOS/lib/anaconda3-lubuntu/lib/python3.6/site-packages/sklearn/utils/extmath.py:384: VisibleDeprecationWarning: using a non-integer number instead of an integer will result in an error in the future\n",
      "  return V[:n_components, :].T, s[:n_components], U[:, :n_components].T\n",
      "/media/fernando/DADOS/lib/anaconda3-lubuntu/lib/python3.6/site-packages/sklearn/utils/extmath.py:384: VisibleDeprecationWarning: using a non-integer number instead of an integer will result in an error in the future\n",
      "  return V[:n_components, :].T, s[:n_components], U[:, :n_components].T\n",
      "/media/fernando/DADOS/lib/anaconda3-lubuntu/lib/python3.6/site-packages/sklearn/utils/extmath.py:242: VisibleDeprecationWarning: using a non-integer number instead of an integer will result in an error in the future\n",
      "  Q = random_state.normal(size=(A.shape[1], size))\n",
      "/media/fernando/DADOS/lib/anaconda3-lubuntu/lib/python3.6/site-packages/sklearn/utils/extmath.py:242: VisibleDeprecationWarning: using a non-integer number instead of an integer will result in an error in the future\n",
      "  Q = random_state.normal(size=(A.shape[1], size))\n",
      "/media/fernando/DADOS/lib/anaconda3-lubuntu/lib/python3.6/site-packages/sklearn/utils/extmath.py:384: VisibleDeprecationWarning: using a non-integer number instead of an integer will result in an error in the future\n",
      "  return V[:n_components, :].T, s[:n_components], U[:, :n_components].T\n",
      "/media/fernando/DADOS/lib/anaconda3-lubuntu/lib/python3.6/site-packages/sklearn/utils/extmath.py:384: VisibleDeprecationWarning: using a non-integer number instead of an integer will result in an error in the future\n",
      "  return V[:n_components, :].T, s[:n_components], U[:, :n_components].T\n",
      "/media/fernando/DADOS/lib/anaconda3-lubuntu/lib/python3.6/site-packages/sklearn/utils/extmath.py:242: VisibleDeprecationWarning: using a non-integer number instead of an integer will result in an error in the future\n",
      "  Q = random_state.normal(size=(A.shape[1], size))\n",
      "/media/fernando/DADOS/lib/anaconda3-lubuntu/lib/python3.6/site-packages/sklearn/utils/extmath.py:242: VisibleDeprecationWarning: using a non-integer number instead of an integer will result in an error in the future\n",
      "  Q = random_state.normal(size=(A.shape[1], size))\n",
      "/media/fernando/DADOS/lib/anaconda3-lubuntu/lib/python3.6/site-packages/sklearn/utils/extmath.py:384: VisibleDeprecationWarning: using a non-integer number instead of an integer will result in an error in the future\n",
      "  return V[:n_components, :].T, s[:n_components], U[:, :n_components].T\n",
      "/media/fernando/DADOS/lib/anaconda3-lubuntu/lib/python3.6/site-packages/sklearn/utils/extmath.py:384: VisibleDeprecationWarning: using a non-integer number instead of an integer will result in an error in the future\n",
      "  return V[:n_components, :].T, s[:n_components], U[:, :n_components].T\n",
      "/media/fernando/DADOS/lib/anaconda3-lubuntu/lib/python3.6/site-packages/sklearn/utils/extmath.py:242: VisibleDeprecationWarning: using a non-integer number instead of an integer will result in an error in the future\n",
      "  Q = random_state.normal(size=(A.shape[1], size))\n",
      "/media/fernando/DADOS/lib/anaconda3-lubuntu/lib/python3.6/site-packages/sklearn/utils/extmath.py:242: VisibleDeprecationWarning: using a non-integer number instead of an integer will result in an error in the future\n",
      "  Q = random_state.normal(size=(A.shape[1], size))\n",
      "/media/fernando/DADOS/lib/anaconda3-lubuntu/lib/python3.6/site-packages/sklearn/utils/extmath.py:384: VisibleDeprecationWarning: using a non-integer number instead of an integer will result in an error in the future\n",
      "  return V[:n_components, :].T, s[:n_components], U[:, :n_components].T\n",
      "/media/fernando/DADOS/lib/anaconda3-lubuntu/lib/python3.6/site-packages/sklearn/utils/extmath.py:384: VisibleDeprecationWarning: using a non-integer number instead of an integer will result in an error in the future\n",
      "  return V[:n_components, :].T, s[:n_components], U[:, :n_components].T\n",
      "/media/fernando/DADOS/lib/anaconda3-lubuntu/lib/python3.6/site-packages/sklearn/utils/extmath.py:242: VisibleDeprecationWarning: using a non-integer number instead of an integer will result in an error in the future\n",
      "  Q = random_state.normal(size=(A.shape[1], size))\n",
      "/media/fernando/DADOS/lib/anaconda3-lubuntu/lib/python3.6/site-packages/sklearn/utils/extmath.py:242: VisibleDeprecationWarning: using a non-integer number instead of an integer will result in an error in the future\n",
      "  Q = random_state.normal(size=(A.shape[1], size))\n",
      "/media/fernando/DADOS/lib/anaconda3-lubuntu/lib/python3.6/site-packages/sklearn/utils/extmath.py:384: VisibleDeprecationWarning: using a non-integer number instead of an integer will result in an error in the future\n",
      "  return V[:n_components, :].T, s[:n_components], U[:, :n_components].T\n",
      "/media/fernando/DADOS/lib/anaconda3-lubuntu/lib/python3.6/site-packages/sklearn/utils/extmath.py:384: VisibleDeprecationWarning: using a non-integer number instead of an integer will result in an error in the future\n",
      "  return V[:n_components, :].T, s[:n_components], U[:, :n_components].T\n",
      "/media/fernando/DADOS/lib/anaconda3-lubuntu/lib/python3.6/site-packages/sklearn/utils/extmath.py:242: VisibleDeprecationWarning: using a non-integer number instead of an integer will result in an error in the future\n",
      "  Q = random_state.normal(size=(A.shape[1], size))\n",
      "/media/fernando/DADOS/lib/anaconda3-lubuntu/lib/python3.6/site-packages/sklearn/utils/extmath.py:242: VisibleDeprecationWarning: using a non-integer number instead of an integer will result in an error in the future\n",
      "  Q = random_state.normal(size=(A.shape[1], size))\n",
      "/media/fernando/DADOS/lib/anaconda3-lubuntu/lib/python3.6/site-packages/sklearn/utils/extmath.py:384: VisibleDeprecationWarning: using a non-integer number instead of an integer will result in an error in the future\n",
      "  return V[:n_components, :].T, s[:n_components], U[:, :n_components].T\n",
      "/media/fernando/DADOS/lib/anaconda3-lubuntu/lib/python3.6/site-packages/sklearn/utils/extmath.py:384: VisibleDeprecationWarning: using a non-integer number instead of an integer will result in an error in the future\n",
      "  return V[:n_components, :].T, s[:n_components], U[:, :n_components].T\n",
      "/media/fernando/DADOS/lib/anaconda3-lubuntu/lib/python3.6/site-packages/sklearn/utils/extmath.py:242: VisibleDeprecationWarning: using a non-integer number instead of an integer will result in an error in the future\n",
      "  Q = random_state.normal(size=(A.shape[1], size))\n",
      "/media/fernando/DADOS/lib/anaconda3-lubuntu/lib/python3.6/site-packages/sklearn/utils/extmath.py:242: VisibleDeprecationWarning: using a non-integer number instead of an integer will result in an error in the future\n",
      "  Q = random_state.normal(size=(A.shape[1], size))\n",
      "/media/fernando/DADOS/lib/anaconda3-lubuntu/lib/python3.6/site-packages/sklearn/utils/extmath.py:384: VisibleDeprecationWarning: using a non-integer number instead of an integer will result in an error in the future\n",
      "  return V[:n_components, :].T, s[:n_components], U[:, :n_components].T\n",
      "/media/fernando/DADOS/lib/anaconda3-lubuntu/lib/python3.6/site-packages/sklearn/utils/extmath.py:384: VisibleDeprecationWarning: using a non-integer number instead of an integer will result in an error in the future\n",
      "  return V[:n_components, :].T, s[:n_components], U[:, :n_components].T\n",
      "/media/fernando/DADOS/lib/anaconda3-lubuntu/lib/python3.6/site-packages/sklearn/utils/extmath.py:242: VisibleDeprecationWarning: using a non-integer number instead of an integer will result in an error in the future\n",
      "  Q = random_state.normal(size=(A.shape[1], size))\n",
      "/media/fernando/DADOS/lib/anaconda3-lubuntu/lib/python3.6/site-packages/sklearn/utils/extmath.py:242: VisibleDeprecationWarning: using a non-integer number instead of an integer will result in an error in the future\n",
      "  Q = random_state.normal(size=(A.shape[1], size))\n",
      "/media/fernando/DADOS/lib/anaconda3-lubuntu/lib/python3.6/site-packages/sklearn/utils/extmath.py:384: VisibleDeprecationWarning: using a non-integer number instead of an integer will result in an error in the future\n",
      "  return V[:n_components, :].T, s[:n_components], U[:, :n_components].T\n",
      "/media/fernando/DADOS/lib/anaconda3-lubuntu/lib/python3.6/site-packages/sklearn/utils/extmath.py:384: VisibleDeprecationWarning: using a non-integer number instead of an integer will result in an error in the future\n",
      "  return V[:n_components, :].T, s[:n_components], U[:, :n_components].T\n",
      "/media/fernando/DADOS/lib/anaconda3-lubuntu/lib/python3.6/site-packages/sklearn/utils/extmath.py:242: VisibleDeprecationWarning: using a non-integer number instead of an integer will result in an error in the future\n",
      "  Q = random_state.normal(size=(A.shape[1], size))\n",
      "/media/fernando/DADOS/lib/anaconda3-lubuntu/lib/python3.6/site-packages/sklearn/utils/extmath.py:242: VisibleDeprecationWarning: using a non-integer number instead of an integer will result in an error in the future\n",
      "  Q = random_state.normal(size=(A.shape[1], size))\n",
      "/media/fernando/DADOS/lib/anaconda3-lubuntu/lib/python3.6/site-packages/sklearn/utils/extmath.py:384: VisibleDeprecationWarning: using a non-integer number instead of an integer will result in an error in the future\n",
      "  return V[:n_components, :].T, s[:n_components], U[:, :n_components].T\n",
      "/media/fernando/DADOS/lib/anaconda3-lubuntu/lib/python3.6/site-packages/sklearn/utils/extmath.py:384: VisibleDeprecationWarning: using a non-integer number instead of an integer will result in an error in the future\n",
      "  return V[:n_components, :].T, s[:n_components], U[:, :n_components].T\n",
      "/media/fernando/DADOS/lib/anaconda3-lubuntu/lib/python3.6/site-packages/sklearn/utils/extmath.py:242: VisibleDeprecationWarning: using a non-integer number instead of an integer will result in an error in the future\n",
      "  Q = random_state.normal(size=(A.shape[1], size))\n",
      "/media/fernando/DADOS/lib/anaconda3-lubuntu/lib/python3.6/site-packages/sklearn/utils/extmath.py:242: VisibleDeprecationWarning: using a non-integer number instead of an integer will result in an error in the future\n",
      "  Q = random_state.normal(size=(A.shape[1], size))\n",
      "/media/fernando/DADOS/lib/anaconda3-lubuntu/lib/python3.6/site-packages/sklearn/utils/extmath.py:384: VisibleDeprecationWarning: using a non-integer number instead of an integer will result in an error in the future\n",
      "  return V[:n_components, :].T, s[:n_components], U[:, :n_components].T\n",
      "/media/fernando/DADOS/lib/anaconda3-lubuntu/lib/python3.6/site-packages/sklearn/utils/extmath.py:384: VisibleDeprecationWarning: using a non-integer number instead of an integer will result in an error in the future\n",
      "  return V[:n_components, :].T, s[:n_components], U[:, :n_components].T\n",
      "/media/fernando/DADOS/lib/anaconda3-lubuntu/lib/python3.6/site-packages/sklearn/utils/extmath.py:242: VisibleDeprecationWarning: using a non-integer number instead of an integer will result in an error in the future\n",
      "  Q = random_state.normal(size=(A.shape[1], size))\n",
      "/media/fernando/DADOS/lib/anaconda3-lubuntu/lib/python3.6/site-packages/sklearn/utils/extmath.py:384: VisibleDeprecationWarning: using a non-integer number instead of an integer will result in an error in the future\n",
      "  return V[:n_components, :].T, s[:n_components], U[:, :n_components].T\n",
      "/media/fernando/DADOS/lib/anaconda3-lubuntu/lib/python3.6/site-packages/sklearn/utils/extmath.py:242: VisibleDeprecationWarning: using a non-integer number instead of an integer will result in an error in the future\n",
      "  Q = random_state.normal(size=(A.shape[1], size))\n",
      "/media/fernando/DADOS/lib/anaconda3-lubuntu/lib/python3.6/site-packages/sklearn/utils/extmath.py:384: VisibleDeprecationWarning: using a non-integer number instead of an integer will result in an error in the future\n",
      "  return V[:n_components, :].T, s[:n_components], U[:, :n_components].T\n",
      "/media/fernando/DADOS/lib/anaconda3-lubuntu/lib/python3.6/site-packages/sklearn/utils/extmath.py:242: VisibleDeprecationWarning: using a non-integer number instead of an integer will result in an error in the future\n",
      "  Q = random_state.normal(size=(A.shape[1], size))\n",
      "/media/fernando/DADOS/lib/anaconda3-lubuntu/lib/python3.6/site-packages/sklearn/utils/extmath.py:242: VisibleDeprecationWarning: using a non-integer number instead of an integer will result in an error in the future\n",
      "  Q = random_state.normal(size=(A.shape[1], size))\n",
      "/media/fernando/DADOS/lib/anaconda3-lubuntu/lib/python3.6/site-packages/sklearn/utils/extmath.py:384: VisibleDeprecationWarning: using a non-integer number instead of an integer will result in an error in the future\n",
      "  return V[:n_components, :].T, s[:n_components], U[:, :n_components].T\n",
      "/media/fernando/DADOS/lib/anaconda3-lubuntu/lib/python3.6/site-packages/sklearn/utils/extmath.py:384: VisibleDeprecationWarning: using a non-integer number instead of an integer will result in an error in the future\n",
      "  return V[:n_components, :].T, s[:n_components], U[:, :n_components].T\n",
      "/media/fernando/DADOS/lib/anaconda3-lubuntu/lib/python3.6/site-packages/sklearn/utils/extmath.py:242: VisibleDeprecationWarning: using a non-integer number instead of an integer will result in an error in the future\n",
      "  Q = random_state.normal(size=(A.shape[1], size))\n",
      "/media/fernando/DADOS/lib/anaconda3-lubuntu/lib/python3.6/site-packages/sklearn/utils/extmath.py:242: VisibleDeprecationWarning: using a non-integer number instead of an integer will result in an error in the future\n",
      "  Q = random_state.normal(size=(A.shape[1], size))\n",
      "/media/fernando/DADOS/lib/anaconda3-lubuntu/lib/python3.6/site-packages/sklearn/utils/extmath.py:384: VisibleDeprecationWarning: using a non-integer number instead of an integer will result in an error in the future\n",
      "  return V[:n_components, :].T, s[:n_components], U[:, :n_components].T\n",
      "/media/fernando/DADOS/lib/anaconda3-lubuntu/lib/python3.6/site-packages/sklearn/utils/extmath.py:384: VisibleDeprecationWarning: using a non-integer number instead of an integer will result in an error in the future\n",
      "  return V[:n_components, :].T, s[:n_components], U[:, :n_components].T\n",
      "/media/fernando/DADOS/lib/anaconda3-lubuntu/lib/python3.6/site-packages/sklearn/utils/extmath.py:242: VisibleDeprecationWarning: using a non-integer number instead of an integer will result in an error in the future\n",
      "  Q = random_state.normal(size=(A.shape[1], size))\n",
      "/media/fernando/DADOS/lib/anaconda3-lubuntu/lib/python3.6/site-packages/sklearn/utils/extmath.py:384: VisibleDeprecationWarning: using a non-integer number instead of an integer will result in an error in the future\n",
      "  return V[:n_components, :].T, s[:n_components], U[:, :n_components].T\n",
      "/media/fernando/DADOS/lib/anaconda3-lubuntu/lib/python3.6/site-packages/sklearn/utils/extmath.py:242: VisibleDeprecationWarning: using a non-integer number instead of an integer will result in an error in the future\n",
      "  Q = random_state.normal(size=(A.shape[1], size))\n",
      "/media/fernando/DADOS/lib/anaconda3-lubuntu/lib/python3.6/site-packages/sklearn/utils/extmath.py:384: VisibleDeprecationWarning: using a non-integer number instead of an integer will result in an error in the future\n",
      "  return V[:n_components, :].T, s[:n_components], U[:, :n_components].T\n",
      "/media/fernando/DADOS/lib/anaconda3-lubuntu/lib/python3.6/site-packages/sklearn/utils/extmath.py:242: VisibleDeprecationWarning: using a non-integer number instead of an integer will result in an error in the future\n",
      "  Q = random_state.normal(size=(A.shape[1], size))\n",
      "/media/fernando/DADOS/lib/anaconda3-lubuntu/lib/python3.6/site-packages/sklearn/utils/extmath.py:384: VisibleDeprecationWarning: using a non-integer number instead of an integer will result in an error in the future\n",
      "  return V[:n_components, :].T, s[:n_components], U[:, :n_components].T\n",
      "/media/fernando/DADOS/lib/anaconda3-lubuntu/lib/python3.6/site-packages/sklearn/utils/extmath.py:242: VisibleDeprecationWarning: using a non-integer number instead of an integer will result in an error in the future\n",
      "  Q = random_state.normal(size=(A.shape[1], size))\n",
      "/media/fernando/DADOS/lib/anaconda3-lubuntu/lib/python3.6/site-packages/sklearn/utils/extmath.py:384: VisibleDeprecationWarning: using a non-integer number instead of an integer will result in an error in the future\n",
      "  return V[:n_components, :].T, s[:n_components], U[:, :n_components].T\n",
      "/media/fernando/DADOS/lib/anaconda3-lubuntu/lib/python3.6/site-packages/sklearn/utils/extmath.py:242: VisibleDeprecationWarning: using a non-integer number instead of an integer will result in an error in the future\n",
      "  Q = random_state.normal(size=(A.shape[1], size))\n",
      "/media/fernando/DADOS/lib/anaconda3-lubuntu/lib/python3.6/site-packages/sklearn/utils/extmath.py:384: VisibleDeprecationWarning: using a non-integer number instead of an integer will result in an error in the future\n",
      "  return V[:n_components, :].T, s[:n_components], U[:, :n_components].T\n",
      "/media/fernando/DADOS/lib/anaconda3-lubuntu/lib/python3.6/site-packages/sklearn/utils/extmath.py:242: VisibleDeprecationWarning: using a non-integer number instead of an integer will result in an error in the future\n",
      "  Q = random_state.normal(size=(A.shape[1], size))\n",
      "/media/fernando/DADOS/lib/anaconda3-lubuntu/lib/python3.6/site-packages/sklearn/utils/extmath.py:384: VisibleDeprecationWarning: using a non-integer number instead of an integer will result in an error in the future\n",
      "  return V[:n_components, :].T, s[:n_components], U[:, :n_components].T\n",
      "/media/fernando/DADOS/lib/anaconda3-lubuntu/lib/python3.6/site-packages/sklearn/utils/extmath.py:242: VisibleDeprecationWarning: using a non-integer number instead of an integer will result in an error in the future\n",
      "  Q = random_state.normal(size=(A.shape[1], size))\n",
      "/media/fernando/DADOS/lib/anaconda3-lubuntu/lib/python3.6/site-packages/sklearn/utils/extmath.py:384: VisibleDeprecationWarning: using a non-integer number instead of an integer will result in an error in the future\n",
      "  return V[:n_components, :].T, s[:n_components], U[:, :n_components].T\n",
      "/media/fernando/DADOS/lib/anaconda3-lubuntu/lib/python3.6/site-packages/sklearn/utils/extmath.py:242: VisibleDeprecationWarning: using a non-integer number instead of an integer will result in an error in the future\n",
      "  Q = random_state.normal(size=(A.shape[1], size))\n",
      "/media/fernando/DADOS/lib/anaconda3-lubuntu/lib/python3.6/site-packages/sklearn/utils/extmath.py:384: VisibleDeprecationWarning: using a non-integer number instead of an integer will result in an error in the future\n",
      "  return V[:n_components, :].T, s[:n_components], U[:, :n_components].T\n",
      "/media/fernando/DADOS/lib/anaconda3-lubuntu/lib/python3.6/site-packages/sklearn/utils/extmath.py:242: VisibleDeprecationWarning: using a non-integer number instead of an integer will result in an error in the future\n",
      "  Q = random_state.normal(size=(A.shape[1], size))\n",
      "/media/fernando/DADOS/lib/anaconda3-lubuntu/lib/python3.6/site-packages/sklearn/utils/extmath.py:384: VisibleDeprecationWarning: using a non-integer number instead of an integer will result in an error in the future\n",
      "  return V[:n_components, :].T, s[:n_components], U[:, :n_components].T\n",
      "/media/fernando/DADOS/lib/anaconda3-lubuntu/lib/python3.6/site-packages/sklearn/utils/extmath.py:242: VisibleDeprecationWarning: using a non-integer number instead of an integer will result in an error in the future\n",
      "  Q = random_state.normal(size=(A.shape[1], size))\n",
      "/media/fernando/DADOS/lib/anaconda3-lubuntu/lib/python3.6/site-packages/sklearn/utils/extmath.py:384: VisibleDeprecationWarning: using a non-integer number instead of an integer will result in an error in the future\n",
      "  return V[:n_components, :].T, s[:n_components], U[:, :n_components].T\n",
      "/media/fernando/DADOS/lib/anaconda3-lubuntu/lib/python3.6/site-packages/sklearn/utils/extmath.py:242: VisibleDeprecationWarning: using a non-integer number instead of an integer will result in an error in the future\n",
      "  Q = random_state.normal(size=(A.shape[1], size))\n",
      "/media/fernando/DADOS/lib/anaconda3-lubuntu/lib/python3.6/site-packages/sklearn/utils/extmath.py:384: VisibleDeprecationWarning: using a non-integer number instead of an integer will result in an error in the future\n",
      "  return V[:n_components, :].T, s[:n_components], U[:, :n_components].T\n",
      "/media/fernando/DADOS/lib/anaconda3-lubuntu/lib/python3.6/site-packages/sklearn/utils/extmath.py:242: VisibleDeprecationWarning: using a non-integer number instead of an integer will result in an error in the future\n",
      "  Q = random_state.normal(size=(A.shape[1], size))\n",
      "/media/fernando/DADOS/lib/anaconda3-lubuntu/lib/python3.6/site-packages/sklearn/utils/extmath.py:242: VisibleDeprecationWarning: using a non-integer number instead of an integer will result in an error in the future\n",
      "  Q = random_state.normal(size=(A.shape[1], size))\n",
      "/media/fernando/DADOS/lib/anaconda3-lubuntu/lib/python3.6/site-packages/sklearn/utils/extmath.py:384: VisibleDeprecationWarning: using a non-integer number instead of an integer will result in an error in the future\n",
      "  return V[:n_components, :].T, s[:n_components], U[:, :n_components].T\n",
      "/media/fernando/DADOS/lib/anaconda3-lubuntu/lib/python3.6/site-packages/sklearn/utils/extmath.py:384: VisibleDeprecationWarning: using a non-integer number instead of an integer will result in an error in the future\n",
      "  return V[:n_components, :].T, s[:n_components], U[:, :n_components].T\n",
      "/media/fernando/DADOS/lib/anaconda3-lubuntu/lib/python3.6/site-packages/sklearn/utils/extmath.py:242: VisibleDeprecationWarning: using a non-integer number instead of an integer will result in an error in the future\n",
      "  Q = random_state.normal(size=(A.shape[1], size))\n",
      "/media/fernando/DADOS/lib/anaconda3-lubuntu/lib/python3.6/site-packages/sklearn/utils/extmath.py:384: VisibleDeprecationWarning: using a non-integer number instead of an integer will result in an error in the future\n",
      "  return V[:n_components, :].T, s[:n_components], U[:, :n_components].T\n",
      "/media/fernando/DADOS/lib/anaconda3-lubuntu/lib/python3.6/site-packages/sklearn/utils/extmath.py:242: VisibleDeprecationWarning: using a non-integer number instead of an integer will result in an error in the future\n",
      "  Q = random_state.normal(size=(A.shape[1], size))\n",
      "/media/fernando/DADOS/lib/anaconda3-lubuntu/lib/python3.6/site-packages/sklearn/utils/extmath.py:384: VisibleDeprecationWarning: using a non-integer number instead of an integer will result in an error in the future\n",
      "  return V[:n_components, :].T, s[:n_components], U[:, :n_components].T\n",
      "/media/fernando/DADOS/lib/anaconda3-lubuntu/lib/python3.6/site-packages/sklearn/utils/extmath.py:242: VisibleDeprecationWarning: using a non-integer number instead of an integer will result in an error in the future\n",
      "  Q = random_state.normal(size=(A.shape[1], size))\n",
      "/media/fernando/DADOS/lib/anaconda3-lubuntu/lib/python3.6/site-packages/sklearn/utils/extmath.py:384: VisibleDeprecationWarning: using a non-integer number instead of an integer will result in an error in the future\n",
      "  return V[:n_components, :].T, s[:n_components], U[:, :n_components].T\n",
      "/media/fernando/DADOS/lib/anaconda3-lubuntu/lib/python3.6/site-packages/sklearn/utils/extmath.py:242: VisibleDeprecationWarning: using a non-integer number instead of an integer will result in an error in the future\n",
      "  Q = random_state.normal(size=(A.shape[1], size))\n",
      "/media/fernando/DADOS/lib/anaconda3-lubuntu/lib/python3.6/site-packages/sklearn/utils/extmath.py:384: VisibleDeprecationWarning: using a non-integer number instead of an integer will result in an error in the future\n",
      "  return V[:n_components, :].T, s[:n_components], U[:, :n_components].T\n",
      "/media/fernando/DADOS/lib/anaconda3-lubuntu/lib/python3.6/site-packages/sklearn/utils/extmath.py:242: VisibleDeprecationWarning: using a non-integer number instead of an integer will result in an error in the future\n",
      "  Q = random_state.normal(size=(A.shape[1], size))\n",
      "/media/fernando/DADOS/lib/anaconda3-lubuntu/lib/python3.6/site-packages/sklearn/utils/extmath.py:384: VisibleDeprecationWarning: using a non-integer number instead of an integer will result in an error in the future\n",
      "  return V[:n_components, :].T, s[:n_components], U[:, :n_components].T\n",
      "/media/fernando/DADOS/lib/anaconda3-lubuntu/lib/python3.6/site-packages/sklearn/utils/extmath.py:242: VisibleDeprecationWarning: using a non-integer number instead of an integer will result in an error in the future\n",
      "  Q = random_state.normal(size=(A.shape[1], size))\n",
      "/media/fernando/DADOS/lib/anaconda3-lubuntu/lib/python3.6/site-packages/sklearn/utils/extmath.py:384: VisibleDeprecationWarning: using a non-integer number instead of an integer will result in an error in the future\n",
      "  return V[:n_components, :].T, s[:n_components], U[:, :n_components].T\n",
      "/media/fernando/DADOS/lib/anaconda3-lubuntu/lib/python3.6/site-packages/sklearn/utils/extmath.py:242: VisibleDeprecationWarning: using a non-integer number instead of an integer will result in an error in the future\n",
      "  Q = random_state.normal(size=(A.shape[1], size))\n",
      "/media/fernando/DADOS/lib/anaconda3-lubuntu/lib/python3.6/site-packages/sklearn/utils/extmath.py:384: VisibleDeprecationWarning: using a non-integer number instead of an integer will result in an error in the future\n",
      "  return V[:n_components, :].T, s[:n_components], U[:, :n_components].T\n",
      "/media/fernando/DADOS/lib/anaconda3-lubuntu/lib/python3.6/site-packages/sklearn/utils/extmath.py:242: VisibleDeprecationWarning: using a non-integer number instead of an integer will result in an error in the future\n",
      "  Q = random_state.normal(size=(A.shape[1], size))\n",
      "/media/fernando/DADOS/lib/anaconda3-lubuntu/lib/python3.6/site-packages/sklearn/utils/extmath.py:242: VisibleDeprecationWarning: using a non-integer number instead of an integer will result in an error in the future\n",
      "  Q = random_state.normal(size=(A.shape[1], size))\n",
      "/media/fernando/DADOS/lib/anaconda3-lubuntu/lib/python3.6/site-packages/sklearn/utils/extmath.py:384: VisibleDeprecationWarning: using a non-integer number instead of an integer will result in an error in the future\n",
      "  return V[:n_components, :].T, s[:n_components], U[:, :n_components].T\n",
      "/media/fernando/DADOS/lib/anaconda3-lubuntu/lib/python3.6/site-packages/sklearn/utils/extmath.py:384: VisibleDeprecationWarning: using a non-integer number instead of an integer will result in an error in the future\n",
      "  return V[:n_components, :].T, s[:n_components], U[:, :n_components].T\n",
      "/media/fernando/DADOS/lib/anaconda3-lubuntu/lib/python3.6/site-packages/sklearn/utils/extmath.py:242: VisibleDeprecationWarning: using a non-integer number instead of an integer will result in an error in the future\n",
      "  Q = random_state.normal(size=(A.shape[1], size))\n",
      "/media/fernando/DADOS/lib/anaconda3-lubuntu/lib/python3.6/site-packages/sklearn/utils/extmath.py:242: VisibleDeprecationWarning: using a non-integer number instead of an integer will result in an error in the future\n",
      "  Q = random_state.normal(size=(A.shape[1], size))\n",
      "/media/fernando/DADOS/lib/anaconda3-lubuntu/lib/python3.6/site-packages/sklearn/utils/extmath.py:384: VisibleDeprecationWarning: using a non-integer number instead of an integer will result in an error in the future\n",
      "  return V[:n_components, :].T, s[:n_components], U[:, :n_components].T\n",
      "/media/fernando/DADOS/lib/anaconda3-lubuntu/lib/python3.6/site-packages/sklearn/utils/extmath.py:384: VisibleDeprecationWarning: using a non-integer number instead of an integer will result in an error in the future\n",
      "  return V[:n_components, :].T, s[:n_components], U[:, :n_components].T\n",
      "/media/fernando/DADOS/lib/anaconda3-lubuntu/lib/python3.6/site-packages/sklearn/utils/extmath.py:242: VisibleDeprecationWarning: using a non-integer number instead of an integer will result in an error in the future\n",
      "  Q = random_state.normal(size=(A.shape[1], size))\n",
      "/media/fernando/DADOS/lib/anaconda3-lubuntu/lib/python3.6/site-packages/sklearn/utils/extmath.py:242: VisibleDeprecationWarning: using a non-integer number instead of an integer will result in an error in the future\n",
      "  Q = random_state.normal(size=(A.shape[1], size))\n",
      "/media/fernando/DADOS/lib/anaconda3-lubuntu/lib/python3.6/site-packages/sklearn/utils/extmath.py:384: VisibleDeprecationWarning: using a non-integer number instead of an integer will result in an error in the future\n",
      "  return V[:n_components, :].T, s[:n_components], U[:, :n_components].T\n",
      "/media/fernando/DADOS/lib/anaconda3-lubuntu/lib/python3.6/site-packages/sklearn/utils/extmath.py:384: VisibleDeprecationWarning: using a non-integer number instead of an integer will result in an error in the future\n",
      "  return V[:n_components, :].T, s[:n_components], U[:, :n_components].T\n",
      "/media/fernando/DADOS/lib/anaconda3-lubuntu/lib/python3.6/site-packages/sklearn/utils/extmath.py:242: VisibleDeprecationWarning: using a non-integer number instead of an integer will result in an error in the future\n",
      "  Q = random_state.normal(size=(A.shape[1], size))\n",
      "/media/fernando/DADOS/lib/anaconda3-lubuntu/lib/python3.6/site-packages/sklearn/utils/extmath.py:242: VisibleDeprecationWarning: using a non-integer number instead of an integer will result in an error in the future\n",
      "  Q = random_state.normal(size=(A.shape[1], size))\n",
      "/media/fernando/DADOS/lib/anaconda3-lubuntu/lib/python3.6/site-packages/sklearn/utils/extmath.py:384: VisibleDeprecationWarning: using a non-integer number instead of an integer will result in an error in the future\n",
      "  return V[:n_components, :].T, s[:n_components], U[:, :n_components].T\n",
      "/media/fernando/DADOS/lib/anaconda3-lubuntu/lib/python3.6/site-packages/sklearn/utils/extmath.py:384: VisibleDeprecationWarning: using a non-integer number instead of an integer will result in an error in the future\n",
      "  return V[:n_components, :].T, s[:n_components], U[:, :n_components].T\n",
      "/media/fernando/DADOS/lib/anaconda3-lubuntu/lib/python3.6/site-packages/sklearn/utils/extmath.py:242: VisibleDeprecationWarning: using a non-integer number instead of an integer will result in an error in the future\n",
      "  Q = random_state.normal(size=(A.shape[1], size))\n",
      "/media/fernando/DADOS/lib/anaconda3-lubuntu/lib/python3.6/site-packages/sklearn/utils/extmath.py:242: VisibleDeprecationWarning: using a non-integer number instead of an integer will result in an error in the future\n",
      "  Q = random_state.normal(size=(A.shape[1], size))\n",
      "/media/fernando/DADOS/lib/anaconda3-lubuntu/lib/python3.6/site-packages/sklearn/utils/extmath.py:384: VisibleDeprecationWarning: using a non-integer number instead of an integer will result in an error in the future\n",
      "  return V[:n_components, :].T, s[:n_components], U[:, :n_components].T\n",
      "/media/fernando/DADOS/lib/anaconda3-lubuntu/lib/python3.6/site-packages/sklearn/utils/extmath.py:384: VisibleDeprecationWarning: using a non-integer number instead of an integer will result in an error in the future\n",
      "  return V[:n_components, :].T, s[:n_components], U[:, :n_components].T\n",
      "/media/fernando/DADOS/lib/anaconda3-lubuntu/lib/python3.6/site-packages/sklearn/utils/extmath.py:242: VisibleDeprecationWarning: using a non-integer number instead of an integer will result in an error in the future\n",
      "  Q = random_state.normal(size=(A.shape[1], size))\n",
      "/media/fernando/DADOS/lib/anaconda3-lubuntu/lib/python3.6/site-packages/sklearn/utils/extmath.py:242: VisibleDeprecationWarning: using a non-integer number instead of an integer will result in an error in the future\n",
      "  Q = random_state.normal(size=(A.shape[1], size))\n",
      "/media/fernando/DADOS/lib/anaconda3-lubuntu/lib/python3.6/site-packages/sklearn/utils/extmath.py:384: VisibleDeprecationWarning: using a non-integer number instead of an integer will result in an error in the future\n",
      "  return V[:n_components, :].T, s[:n_components], U[:, :n_components].T\n",
      "/media/fernando/DADOS/lib/anaconda3-lubuntu/lib/python3.6/site-packages/sklearn/utils/extmath.py:384: VisibleDeprecationWarning: using a non-integer number instead of an integer will result in an error in the future\n",
      "  return V[:n_components, :].T, s[:n_components], U[:, :n_components].T\n",
      "/media/fernando/DADOS/lib/anaconda3-lubuntu/lib/python3.6/site-packages/sklearn/utils/extmath.py:242: VisibleDeprecationWarning: using a non-integer number instead of an integer will result in an error in the future\n",
      "  Q = random_state.normal(size=(A.shape[1], size))\n",
      "/media/fernando/DADOS/lib/anaconda3-lubuntu/lib/python3.6/site-packages/sklearn/utils/extmath.py:384: VisibleDeprecationWarning: using a non-integer number instead of an integer will result in an error in the future\n",
      "  return V[:n_components, :].T, s[:n_components], U[:, :n_components].T\n"
     ]
    },
    {
     "data": {
      "text/plain": [
       "RandomizedSearchCV(cv=3, error_score='raise',\n",
       "          estimator=Pipeline(steps=[('tfidf', TfidfVectorizer(analyzer='word', binary=False, decode_error='strict',\n",
       "        dtype=<class 'numpy.int64'>, encoding='utf-8', input='content',\n",
       "        lowercase=True, max_df=1.0, max_features=None, min_df=1,\n",
       "        ngram_range=(1, 1), norm='l2', preprocessor=None, smooth_idf=True,\n",
       " ...wski',\n",
       "           metric_params=None, n_jobs=1, n_neighbors=10, p=2,\n",
       "           weights='uniform'))]),\n",
       "          fit_params={}, iid=True, n_iter=20, n_jobs=2,\n",
       "          param_distributions={'clf__n_neighbors': range(1, 60), 'clf__weights': ['uniform', 'distance']},\n",
       "          pre_dispatch='2*n_jobs', random_state=None, refit=True,\n",
       "          scoring='accuracy', verbose=0)"
      ]
     },
     "execution_count": 12,
     "metadata": {},
     "output_type": "execute_result"
    }
   ],
   "source": [
    "#print(hyperpar_selector)\n",
    "\n",
    "hyperpar_selector.fit(X=x_data_train, y=y_data_train)"
   ]
  },
  {
   "cell_type": "code",
   "execution_count": 13,
   "metadata": {
    "collapsed": false
   },
   "outputs": [
    {
     "name": "stdout",
     "output_type": "stream",
     "text": [
      "Best score: 0.635\n",
      "Best parameters set:\n",
      "\tclf__n_neighbors: 3\n",
      "\tclf__weights: 'distance'\n"
     ]
    }
   ],
   "source": [
    "print(\"Best score: %0.3f\" % hyperpar_selector.best_score_)\n",
    "print(\"Best parameters set:\")\n",
    "best_parameters = hyperpar_selector.best_estimator_.get_params()\n",
    "for param_name in sorted(par.keys()):\n",
    "    print(\"\\t%s: %r\" % (param_name, best_parameters[param_name]))"
   ]
  },
  {
   "cell_type": "markdown",
   "metadata": {},
   "source": [
    "<b>4. Testando o classificador</b>"
   ]
  },
  {
   "cell_type": "markdown",
   "metadata": {},
   "source": [
    "<p>Agora vamos usar o classificador com o nosso dataset de testes, e observar os resultados:</p>"
   ]
  },
  {
   "cell_type": "code",
   "execution_count": 14,
   "metadata": {
    "collapsed": false
   },
   "outputs": [
    {
     "name": "stdout",
     "output_type": "stream",
     "text": [
      "0.734375\n"
     ]
    }
   ],
   "source": [
    "from sklearn.metrics import *\n",
    "\n",
    "y_pred = hyperpar_selector.predict(x_data_test)\n",
    "\n",
    "print(accuracy_score(y_data_test, y_pred))"
   ]
  },
  {
   "cell_type": "markdown",
   "metadata": {},
   "source": [
    "<b>5. Serializando o modelo</b><br>"
   ]
  },
  {
   "cell_type": "code",
   "execution_count": 15,
   "metadata": {
    "collapsed": false
   },
   "outputs": [],
   "source": [
    "import pickle\n",
    "\n",
    "string_obj = pickle.dumps(hyperpar_selector)"
   ]
  },
  {
   "cell_type": "code",
   "execution_count": 16,
   "metadata": {
    "collapsed": false
   },
   "outputs": [],
   "source": [
    "model_file = open('model.pkl', 'wb')\n",
    "\n",
    "model_file.write(string_obj)\n",
    "\n",
    "model_file.close()"
   ]
  },
  {
   "cell_type": "markdown",
   "metadata": {},
   "source": [
    "<b>6. Abrindo e usando um modelo salvo </b><br>"
   ]
  },
  {
   "cell_type": "code",
   "execution_count": 17,
   "metadata": {
    "collapsed": false
   },
   "outputs": [
    {
     "name": "stdout",
     "output_type": "stream",
     "text": [
      "[0]\n"
     ]
    }
   ],
   "source": [
    "\n",
    "model_file = open('model.pkl', 'rb')\n",
    "model_content = model_file.read()\n",
    "\n",
    "obj_classifier = pickle.loads(model_content)\n",
    "\n",
    "model_file.close()\n",
    "\n",
    "res = obj_classifier.predict([\"what's up bro?\"])\n",
    "\n",
    "print(res)"
   ]
  },
  {
   "cell_type": "code",
   "execution_count": 18,
   "metadata": {
    "collapsed": false
   },
   "outputs": [
    {
     "name": "stdout",
     "output_type": "stream",
     "text": [
      "0.734375\n"
     ]
    }
   ],
   "source": [
    "res = obj_classifier.predict(x_data_test)\n",
    "print(accuracy_score(y_data_test, res))"
   ]
  },
  {
   "cell_type": "code",
   "execution_count": 19,
   "metadata": {
    "collapsed": false
   },
   "outputs": [
    {
     "name": "stdout",
     "output_type": "stream",
     "text": [
      "[0 0 0 0 0 0 0 0 0 0 0 0 0 0 0 0 0 0 0 0 0 0 0 0 0 0 0 0 0 0 0 0 0 0 0 0 0\n",
      " 0 0 0 0 0 0 0 0 0 0 0 1 0 0 0 0 0 0 0 0 0 0 0 0 0 0 0 0 0 0 0 0 0 0 0 0 0\n",
      " 0 0 0 0 0 0 0 0 0 0 0 0 0 0 0 0 0 0 0 0 0 0 0 0 0 0 0 0 0 0 0 0 1 0 0 0 1\n",
      " 0 0 1 0 1 1 0 1 1 0 0 1 0 0 0 0 0 1 0 0 1 1 0 0 1 0 0 1 1 0 0 1 1 0 0 0 0\n",
      " 0 0 0 0 1 0 0 0 0 1 1 0 0 1 1 1 1 1 1 1 1 1 0 0 0 1 0 0 0 1 0 1 0 0 1 0 1\n",
      " 0 1 1 1 0 0 0]\n"
     ]
    }
   ],
   "source": [
    "res = obj_classifier.predict(x_data_test)\n",
    "\n",
    "print(res)"
   ]
  },
  {
   "cell_type": "code",
   "execution_count": 20,
   "metadata": {
    "collapsed": false
   },
   "outputs": [
    {
     "name": "stdout",
     "output_type": "stream",
     "text": [
      "i already wrote what i wanted you to read.\n",
      "\n",
      "Sorrow came -- a gentle sorrow -- but not at all in the shape of any disagreeable consciousness .-- Miss Taylor married .\n",
      "\n",
      "I could not walk half so far .\"\n",
      "\n",
      "He will be able to tell her how we all are .\"\n",
      "\n",
      "Mr . Knightley had a cheerful manner , which always did him good ; and his many inquiries after \" poor Isabella \" and her children were answered most satisfactorily .\n",
      "\n",
      "When this was over , Mr . Woodhouse gratefully observed , \" It is very kind of you , Mr . Knightley , to come out at this late hour to call upon us .\n",
      "\n",
      "\" Well !\n",
      "\n",
      "\" By the bye -- I have not wished you joy .\n",
      "\n",
      "\" But , Mr . Knightley , she is really very sorry to lose poor Miss Taylor , and I am sure she _will_ miss her more than she thinks for .\"\n",
      "\n",
      "You made a lucky guess ; and _that_ is all that can be said .\"\n",
      "\n",
      "Poor Mr . Elton !\n",
      "\n",
      "You like Mr . Elton , papa ,-- I must look about for a wife for him .\n",
      "\n",
      "Captain Weston was a general favourite ; and when the chances of his military life had introduced him to Miss Churchill , of a great Yorkshire family , and Miss Churchill fell in love with him , nobody was surprized , except her brother and his wife , who had never seen him , and who were full of pride and importance , which the connexion would offend .\n",
      "\n",
      "His coming to visit his father had been often talked of but never achieved .\n",
      "\n",
      "\" I suppose you have heard of the handsome letter Mr . Frank Churchill has written to Mrs . Weston ?\n",
      "\n",
      "She knew that at times she must be missed ; and could not think , without pain , of Emma ' s losing a single pleasure , or suffering an hour ' s ennui , from the want of her companionableness : but dear Emma was of no feeble character ; she was more equal to her situation than most girls would have been , and had sense , and energy , and spirits that might be hoped would bear her well and happily through its little difficulties and privations .\n",
      "\n",
      "She would be very glad to stay .\"\n",
      "\n",
      "Serle understands boiling an egg better than any body .\n",
      "\n",
      "Two such could never be granted .\n",
      "\n",
      "Her first attempts at usefulness were in an endeavour to find out who were the parents , but Harriet could not tell .\n",
      "\n",
      "Mrs . Martin had told her one day ( and there was a blush as she said it ,) that it was impossible for any body to be a better son , and therefore she was sure , whenever he married , he would make a good husband .\n",
      "\n",
      "Martin !\"\n",
      "\n",
      "Mrs . Goddard had dressed it on a Sunday , and asked all the three teachers , Miss Nash , and Miss Prince , and Miss Richardson , to sup with her .\"\n",
      "\n",
      "He does not read ?\"\n",
      "\n",
      "I thought him very plain at first , but I do not think him so plain now .\n",
      "\n",
      "But did you never see him ?\n",
      "\n",
      "He has passed you very often .\"\n",
      "\n",
      "\" To be sure .\n",
      "\n",
      "I know , indeed , that he is so , and , as such , wish him well .\n",
      "\n",
      "Mr . Martin looked as if he did not know what manner was .\n",
      "\n",
      "You might not see one in a hundred with _gentleman_ so plainly written as in Mr . Knightley .\n",
      "\n",
      "\" Will he , indeed ?\n",
      "\n",
      "On the contrary , I think a young man might be very safely recommended to take Mr . Elton as a model .\n",
      "\n",
      "She feared it was what every body else must think of and predict .\n",
      "\n",
      "CHAPTER V\n",
      "\n",
      "Emma must do Harriet good : and by supplying her with a new object of interest , Harriet may be said to do Emma good .\n",
      "\n",
      "\" There is hardly any desiring to refresh such a memory as _that_ ,\"-- said Mr . Knightley , feelingly ; and for a moment or two he had done .\n",
      "\n"
     ]
    }
   ],
   "source": [
    "formal = [x_data_test[i] for i in range(len(res)) if res[i] == 1]\n",
    "\n",
    "for txt in formal:\n",
    "    print(\"%s\\n\" % txt)\n"
   ]
  },
  {
   "cell_type": "code",
   "execution_count": 22,
   "metadata": {
    "collapsed": false
   },
   "outputs": [
    {
     "name": "stdout",
     "output_type": "stream",
     "text": [
      "10-19-20sUser7 is a gay name.\n",
      "\n",
      ".ACTION gives 10-19-20sUser121 a golf clap.\n",
      "\n",
      ":)\n",
      "\n",
      "don't golf clap me.\n",
      "\n",
      "fuck you 10-19-20sUser121:@\n",
      "\n",
      "whats everyone up to?\n",
      "\n",
      "PART\n",
      "\n",
      "JOIN\n",
      "\n",
      "ewwwww lol\n",
      "\n",
      "r u serious\n",
      "\n",
      "JOIN\n",
      "\n",
      "I'll take one, please.\n",
      "\n",
      "26/m\n",
      "\n",
      "JOIN\n",
      "\n",
      "JOIN\n",
      "\n",
      "Anyone from Tennessee in here?\n",
      "\n",
      "10-19-20sUser121 is missing a B in her name\n",
      "\n",
      "and i don't complain about things being hard very often.\n",
      "\n",
      "JOIN\n",
      "\n",
      "PART\n",
      "\n",
      "brb\n",
      "\n",
      "JOIN\n",
      "\n",
      "PART\n",
      "\n",
      "hey any guys with cams wanna play?\n",
      "\n",
      "hey 10-19-20sUser126\n",
      "\n",
      "PART\n",
      "\n",
      "what did you but on e-bay\n",
      "\n",
      "yeee haw 10-19-20sUser30\n",
      "\n",
      "wb 10-19-20sUser139\n",
      "\n",
      "PART\n",
      "\n",
      "you should make it 'iamahotnip', 10-19-20sUser44\n",
      "\n",
      "hi 10-19-20sUser139.\n",
      "\n",
      "ahah \"iamahotniplickme\"\n",
      "\n",
      "Hi 10-19-20sUser121\n",
      "\n",
      "10-19-20sUser136.. get the hell outta my freaking PM box.. Im with my fiance!!!!!!!!!!!!!!!!\n",
      "\n",
      "I like it when you do it, 10-19-20sUser83\n",
      "\n",
      "uh huh \n",
      "\n",
      "i have one already 10-19-20sUser7... yayayayayyy!!\n",
      "\n",
      "OOooOO:)\n",
      "\n",
      "'iamahotnipwithhotnippics\n",
      "\n",
      "lmao!!!\n",
      "\n",
      "I just laughed\n",
      "\n",
      "finger?\n",
      "\n",
      "10-19-20sUser141... get outta my PM Box.. didnt ya hear!!!!\n",
      "\n",
      "you can forward the pervs to me.\n",
      "\n",
      "yes 10-19-20sUser121??\n",
      "\n",
      "aww 10-19-20sUser6 have fun\n",
      "\n",
      "forwads away from 10-19-20sUser121\n",
      "\n",
      "PART\n",
      "\n",
      "what, 10-19-20sUser92.\n",
      "\n",
      "beeehave\n",
      "\n",
      "i love myself\n",
      "\n",
      "girl jerks??\n",
      "\n",
      "10-19-20sUser116\n",
      "\n",
      "PART\n",
      "\n",
      "Guess what\n",
      "\n",
      "Hmm\n",
      "\n",
      "aw 10-19-20sUser115 whys that\n",
      "\n",
      "Your phone sexs is the best\n",
      "\n",
      "I am ugly?\n",
      "\n",
      "phone 10-19-20sUser92?\n",
      "\n",
      "hmph.\n",
      "\n",
      "10-19-20sUser6\n",
      "\n",
      "lol 10-19-20sUser83\n",
      "\n",
      "PART\n",
      "\n",
      "JOIN\n",
      "\n",
      "lets\n",
      "\n",
      "woohoo!\n",
      "\n",
      "JOIN\n",
      "\n",
      "he's in PM land now though\n",
      "\n",
      "ah ok\n",
      "\n",
      "i wont bug em then\n",
      "\n",
      "i need to go this summer.\n",
      "\n",
      "LOL\n",
      "\n",
      "K-Fed got his ass kicked.. Lol\n",
      "\n",
      ".ACTION laughs.\n",
      "\n",
      "i got a first class ticket to hell\n",
      "\n",
      "lol 10-19-20sUser7\n",
      "\n",
      "10-19-20sUser6\n",
      "\n",
      "PART\n",
      "\n",
      "yes 10-19-20sUser92???\n",
      "\n",
      "Cum to my shower.\n",
      "\n",
      ".ACTION 10-19-20sUser1370 watches ur nad with a stick.\n",
      "\n",
      "PART\n",
      "\n",
      "JOIN\n",
      "\n",
      "PART\n",
      "\n",
      "does anyone want to talk to me on the phone?  I don't charge\n",
      "\n",
      "IL\n",
      "\n",
      ".ACTION licks 10-19-20sUser92's neck.\n",
      "\n",
      "Meep\n",
      "\n",
      ".ACTION is resisting.\n",
      "\n",
      "ur female right\n",
      "\n",
      "lol 10-19-20sUser115\n",
      "\n",
      "beeeeehave\n",
      "\n",
      "no \n",
      "\n",
      "go wash your hands now!\n",
      "\n",
      "1-900-anal-sex is 10-19-20sUser121's number\n",
      "\n",
      "dang it. just as i predicted.  no one pm's me.\n",
      "\n",
      "charge that is 1.99/min.\n",
      "\n",
      "LOLOLOLLL 10-19-20sUser12\n",
      "\n",
      "is like\n",
      "\n",
      "no it's not 10-19-20sUser12, you shut yo mouth.\n",
      "\n",
      "erm\n",
      "\n",
      "10-19-20sUser23 how old r u\n",
      "\n",
      "24  u\n",
      "\n",
      "Mr . Weston was a man of unexceptionable character , easy fortune , suitable age , and pleasant manners ; and there was some satisfaction in considering with what self - denying , generous friendship she had always wished and promoted the match ; but it was a black morning ' s work for her .\n",
      "\n",
      "The evil of the actual disparity in their ages ( and Mr . Woodhouse had not married early ) was much increased by his constitution and habits ; for having been a valetudinarian all his life , without activity of mind or body , he was a much older man in ways than in years ; and though everywhere beloved for the friendliness of his heart and his amiable temper , his talents could not have recommended him at any time .\n",
      "\n",
      "\" A house of her own !-- But where is the advantage of a house of her own ?\n",
      "\n",
      "You got Hannah that good place .\n",
      "\n",
      "Nobody thought of Hannah till you mentioned her -- James is so obliged to you !\"\n",
      "\n",
      "The backgammon - table was placed ; but a visitor immediately afterwards walked in and made it unnecessary .\n",
      "\n",
      "It is a beautiful moonlight night ; and so mild that I must draw back from your great fire .\"\n",
      "\n",
      "\" Especially when _one_ of those two is such a fanciful , troublesome creature !\"\n",
      "\n",
      "Oh no ; we all felt that we were going to be only half a mile apart , and were sure of meeting every day .\"\n",
      "\n",
      "\" We should not like her so well as we do , sir , if we could suppose it ; but she knows how much the marriage is to Miss Taylor ' s advantage ; she knows how very acceptable it must be , at Miss Taylor ' s time of life , to be settled in a home of her own , and how important to her to be secure of a comfortable provision , and therefore cannot allow herself to feel so much pain as pleasure .\n",
      "\n",
      "It is the greatest amusement in the world !\n",
      "\n",
      "Some people even talked of a promise to his wife on her deathbed , and others of the son and the uncle not letting him .\n",
      "\n",
      "All manner of solemn nonsense was talked on the subject , but I believed none of it .\n",
      "\n",
      "What are you proud of ?\n",
      "\n",
      "And as to my poor word ` success ,' which you quarrel with , I do not know that I am so entirely without any claim to it .\n",
      "\n",
      "\" A straightforward , open - hearted man like Weston , and a rational , unaffected woman like Miss Taylor , may be safely left to manage their own concerns .\n",
      "\n",
      "\" With a great deal of pleasure , sir , at any time ,\" said Mr . Knightley , laughing , \" and I agree with you entirely , that it will be a much better thing .\n",
      "\n",
      "Invite him to dinner , Emma , and help him to the best of the fish and the chicken , but leave him to chuse his own wife .\n",
      "\n",
      "It was an unsuitable connexion , and did not produce much happiness .\n",
      "\n",
      "Some scruples and some reluctance the widower - father may be supposed to have felt ; but as they were overcome by other considerations , the child was given up to the care and the wealth of the Churchills , and he had only his own comfort to seek , and his own situation to improve as he could .\n",
      "\n",
      "Mr . Woodhouse saw the letter , and he says he never saw such a handsome letter in his life .\"\n",
      "\n",
      "It was , indeed , a highly prized letter .\n",
      "\n",
      "With such an opinion , in confirmation of his own , Mr . Woodhouse hoped to influence every visitor of the newly married pair ; but still the cake was eaten ; and there was no rest for his benevolent nerves till it was all gone .\n",
      "\n",
      "The simplicity and cheerfulness of her nature , her contented and grateful spirit , were a recommendation to every body , and a mine of felicity to herself .\n",
      "\n",
      "It was no wonder that a train of twenty young couple now walked after her to church .\n",
      "\n",
      "These were the ladies whom Emma found herself very frequently able to collect ; and happy was she , for her father ' s sake , in the power ; though , as far as she was herself concerned , it was no remedy for the absence of Mrs . Weston .\n",
      "\n",
      "A very gracious invitation was returned , and the evening no longer dreaded by the fair mistress of the mansion .\n",
      "\n",
      "Somebody had placed her , several years back , at Mrs . Goddard ' s school , and somebody had lately raised her from the condition of scholar to that of parlour - boarder .\n",
      "\n",
      "She was so busy in admiring those soft blue eyes , in talking and listening , and forming all these schemes in the in - betweens , that the evening flew away at a very unusual rate ; and the supper - table , which always closed such parties , and for which she had been used to sit and watch the due time , was all set out and ready , and moved forwards to the fire , before she was aware .\n",
      "\n",
      "Upon such occasions poor Mr . Woodhouses feelings were in sad warfare .\n",
      "\n",
      "Ours are all apple - tarts .\n",
      "\n",
      "A _small_ half - glass , put into a tumbler of water ?\n",
      "\n",
      "Quick and decided in her ways , Emma lost no time in inviting , encouraging , and telling her to come very often ; and as their acquaintance increased , so did their satisfaction in each other .\n",
      "\n",
      "Altogether she was quite convinced of Harriet Smith ' s being exactly the young friend she wanted -- exactly the something which her home required .\n",
      "\n",
      "But the Martins occupied her thoughts a good deal ; she had spent two very happy months with them , and now loved to talk of the pleasures of her visit , and describe the many comforts and wonders of the place .\n",
      "\n",
      "She was very fond of singing .\n",
      "\n",
      "\" I wish you may not get into a scrape , Harriet , whenever he does marry ;-- I mean , as to being acquainted with his wife -- for though his sisters , from a superior education , are not to be altogether objected to , it does not follow that he might marry any body at all fit for you to notice .\n",
      "\n",
      "They met Mr . Martin the very next day , as they were walking on the Donwell road .\n",
      "\n",
      "Emma was not sorry to have such an opportunity of survey ; and walking a few yards forward , while they talked together , soon made her quick eye sufficiently acquainted with Mr . Robert Martin .\n",
      "\n",
      "They remained but a few minutes together , as Miss Woodhouse must not be kept waiting ; and Harriet then came running to her with a smiling face , and in a flutter of spirits , which Miss Woodhouse hoped very soon to compose .\n",
      "\n",
      "He thought we walked towards Randalls most days .\n",
      "\n",
      "I should be surprized if , after seeing them , you could be in company with Mr . Martin again without perceiving him to be a very inferior creature -- and rather wondering at yourself for having ever thought him at all agreeable before .\n",
      "\n",
      "\" There is no saying , indeed ,\" replied Harriet rather solemnly .\n",
      "\n",
      "And I have no doubt that he _will_ thrive , and be a very rich man in time -- and his being illiterate and coarse need not disturb _us_ .\"\n",
      "\n",
      "They might be more safely held up as a pattern .\n",
      "\n",
      "She thought it would be an excellent match ; and only too palpably desirable , natural , and probable , for her to have much merit in planning it .\n",
      "\n",
      "The longer she considered it , the greater was her sense of its expediency .\n",
      "\n",
      "\" But I ,\" he soon added , \" who have had no such charm thrown over my senses , must still see , hear , and remember .\n",
      "\n",
      "At ten years old , she had the misfortune of being able to answer questions which puzzled her sister at seventeen .\n",
      "\n",
      "In her mother she lost the only person able to cope with her .\n",
      "\n"
     ]
    }
   ],
   "source": [
    "informal = [x_data_test[i] for i in range(len(res)) if res[i] == 0]\n",
    "\n",
    "for txt in informal:\n",
    "    print(\"%s\\n\" % txt)"
   ]
  },
  {
   "cell_type": "code",
   "execution_count": 21,
   "metadata": {
    "collapsed": false
   },
   "outputs": [
    {
     "name": "stdout",
     "output_type": "stream",
     "text": [
      "[1]\n"
     ]
    }
   ],
   "source": [
    "res2 = obj_classifier.predict([\"Emma spared no exertions to maintain this happier flow of ideas , and hoped , by the help of backgammon , to get her father tolerably through the evening , and be attacked by no regrets but her own\"])\n",
    "\n",
    "print(res2)"
   ]
  },
  {
   "cell_type": "code",
   "execution_count": null,
   "metadata": {
    "collapsed": true
   },
   "outputs": [],
   "source": []
  }
 ],
 "metadata": {
  "anaconda-cloud": {},
  "kernelspec": {
   "display_name": "Python 3",
   "language": "python",
   "name": "python3"
  },
  "language_info": {
   "codemirror_mode": {
    "name": "ipython",
    "version": 3
   },
   "file_extension": ".py",
   "mimetype": "text/x-python",
   "name": "python",
   "nbconvert_exporter": "python",
   "pygments_lexer": "ipython3",
   "version": "3.6.0"
  }
 },
 "nbformat": 4,
 "nbformat_minor": 1
}
